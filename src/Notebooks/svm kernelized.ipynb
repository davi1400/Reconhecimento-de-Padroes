{
 "cells": [
  {
   "cell_type": "code",
   "execution_count": 105,
   "metadata": {
    "pycharm": {
     "is_executing": false
    }
   },
   "outputs": [],
   "source": [
    "import sys \n",
    "\n",
    "sys.path.append(\"/home/davi/PycharmProjects/Reconhecimento-de-Padroes\")\n",
    "\n",
    "from sklearn.model_selection import KFold\n",
    "from Strings import string\n",
    "from sklearn.model_selection import train_test_split\n",
    "from numpy import zeros, identity, array, concatenate, \\\n",
    "    ones, ravel, dot, where, multiply, sign, mean, exp, var, subtract\n",
    "from src.Utils.utils import get_accuracy, get_data\n",
    "from scipy.spatial.distance import cdist\n",
    "\n",
    "from pandas import DataFrame\n",
    "import cvxopt\n",
    "import cvxopt.solvers"
   ]
  },
  {
   "cell_type": "code",
   "execution_count": 106,
   "metadata": {
    "pycharm": {
     "is_executing": false
    }
   },
   "outputs": [],
   "source": [
    "data = get_data(\"column_2C_weka.arff\", type=\"arff\")\n",
    "data = DataFrame(data)"
   ]
  },
  {
   "cell_type": "code",
   "execution_count": 107,
   "metadata": {
    "pycharm": {
     "is_executing": false
    }
   },
   "outputs": [],
   "source": [
    "number_lines = data.shape[0]\n",
    "number_columns = data.shape[1]\n",
    "x = array(data, ndmin=2)[:, :number_columns-1]\n",
    "y =   array(array(data, ndmin=2)[:, number_columns-1], ndmin=2).T\n",
    "\n",
    "indices = where(y == b'Abnormal')\n",
    "y[indices] = -1\n",
    "\n",
    "indices = where(y == b'Normal')\n",
    "y[indices] = 1\n",
    "\n",
    "train_size = .8\n",
    "test_size = .2\n"
   ]
  },
  {
   "cell_type": "code",
   "execution_count": 108,
   "metadata": {
    "pycharm": {
     "is_executing": false,
     "name": "#%%\n"
    }
   },
   "outputs": [],
   "source": [
    "def kernel(x_train, y_train):\n",
    "    \n",
    "    number_lines, number_columns = x_train.shape\n",
    "    # Create the kernel matrix\n",
    "    \n",
    "    # P matrix\n",
    "    linear_kernel = (dot(x_train, x_train.T) + 1)\n",
    "    gausian = zeros((number_lines, number_lines))\n",
    "    for i in range(number_lines):\n",
    "        for j in range(number_lines):\n",
    "            gausian[i][j] = dot(x_train[i]- x_train[j],(x_train[i]- x_train[j]).T) \n",
    "    \n",
    "    # print(gausian)\n",
    "    sigma = 1\n",
    "    gausian_kernel = exp((-1./(sigma**2))*gausian)\n",
    "    kernel = array(dot(y_train, y_train.T)*gausian_kernel, dtype=float)\n",
    "    # print(kernel.shape)\n",
    "    P = cvxopt.matrix(kernel, tc='d')\n",
    "    # print(\"shape p:\" , P.size)\n",
    "    \n",
    "    # Q marix\n",
    "    Q = cvxopt.matrix(-1.*ones((number_lines, 1)), tc='d')\n",
    "    # print(\"sahpe Q: \", Q.size)\n",
    "    \n",
    "    # A matrix\n",
    "    A = cvxopt.matrix(array(y_train.T, dtype=float), tc='d')\n",
    "    # print(\"shape A: \", A.size)\n",
    "    \n",
    "    # b matrix\n",
    "    b = cvxopt.matrix(zeros((1,  1)), tc='d')\n",
    "    # print(\"sahpe b:\" , b.size)\n",
    "    \n",
    "    # G matrix\n",
    "    G = cvxopt.matrix(-1.*ones((number_lines, number_lines)), tc='d')\n",
    "    # print(\"shape G\", G.size)\n",
    "    \n",
    "    # H matrix \n",
    "    H =  cvxopt.matrix(-1.*zeros((number_lines, 1)), tc='d')\n",
    "    # print(\"shape H:\", H.size)\n",
    "    \n",
    "    \n",
    "    try:\n",
    "        solution = cvxopt.solvers.qp(P, Q ,A=A, b=b, kktsolver='ldl')\n",
    "    except ValueError as error:\n",
    "        print(error)\n",
    "\n",
    "    alphas = ravel(solution['x'])\n",
    "    weights = dot(x_train.T, array(alphas, ndmin=2).T*y_train)\n",
    "    aux = dot(x_train, weights)\n",
    "    bias = y_train - aux.T\n",
    "    penalization = dot(alphas*y_train,linear_kernel) + bias\n",
    "    \n",
    "    return alphas, weights"
   ]
  },
  {
   "cell_type": "code",
   "execution_count": 109,
   "metadata": {
    "pycharm": {
     "is_executing": false
    }
   },
   "outputs": [],
   "source": [
    "def train(x_train, y_train):\n",
    "    solution = kernel(x_train, y_train)\n",
    "    return solution"
   ]
  },
  {
   "cell_type": "code",
   "execution_count": 110,
   "metadata": {
    "pycharm": {
     "is_executing": false,
     "name": "#%%\n"
    }
   },
   "outputs": [],
   "source": [
    "def predict(u):\n",
    "    return sign(u)\n",
    "\n"
   ]
  },
  {
   "cell_type": "code",
   "execution_count": 111,
   "metadata": {
    "pycharm": {
     "is_executing": false,
     "name": "#%%\n"
    }
   },
   "outputs": [],
   "source": [
    "def test(weights, x_test, y_test):\n",
    "    # \n",
    "    # aux = dot(x_test, weights)\n",
    "    # bias = y_test - aux\n",
    "    \n",
    "    out = dot(x_test, weights)\n",
    "    y_output = predict(out) \n",
    "    accuracy = get_accuracy(y_output, y_test)\n",
    "    \n",
    "    # for i in range(y_test.shape[0]):\n",
    "    #     print(\"output: \", y_output[i], \"Expected: \", y_test[i])\n",
    "    return accuracy"
   ]
  },
  {
   "cell_type": "code",
   "execution_count": 112,
   "metadata": {
    "pycharm": {
     "is_executing": false,
     "name": "#%%\n"
    }
   },
   "outputs": [
    {
     "name": "stdout",
     "text": [
      "realization:  0\n",
      "acc:  0.6774193548387096\n",
      "realization:  1\n",
      "acc:  0.7258064516129032\n",
      "realization:  2\n",
      "acc:  0.6935483870967742\n",
      "realization:  3\n",
      "acc:  0.7096774193548387\n",
      "realization:  4\n",
      "acc:  0.6290322580645161\n",
      "realization:  5\n",
      "acc:  0.6774193548387096\n",
      "realization:  6\n",
      "acc:  0.6935483870967742\n",
      "realization:  7\n",
      "acc:  0.7903225806451613\n",
      "realization:  8\n",
      "acc:  0.6774193548387096\n",
      "realization:  9\n",
      "acc:  0.7419354838709677\n",
      "Media de acerto:  0.7016129032258065\n"
     ],
     "output_type": "stream"
    }
   ],
   "source": [
    "acc = []\n",
    "\n",
    "for realization in range(10):\n",
    "\n",
    "    x_train, x_test, y_train, y_test = train_test_split(x, y, test_size=test_size)\n",
    "    alphas, weights = train(x_train, y_train)\n",
    "    accuracy = test(weights, x_test, y_test)\n",
    "    acc.append(accuracy)\n",
    "    print(\"realization: \", realization)\n",
    "    print(\"acc: \", accuracy)\n",
    "    \n",
    "print(\"Media de acerto: \", mean(acc))"
   ]
  },
  {
   "cell_type": "code",
   "execution_count": 112,
   "outputs": [],
   "source": [],
   "metadata": {
    "collapsed": false,
    "pycharm": {
     "name": "#%%\n",
     "is_executing": false
    }
   }
  },
  {
   "cell_type": "code",
   "execution_count": 112,
   "outputs": [],
   "source": [],
   "metadata": {
    "collapsed": false,
    "pycharm": {
     "name": "#%%\n",
     "is_executing": false
    }
   }
  },
  {
   "cell_type": "code",
   "execution_count": 112,
   "outputs": [],
   "source": [],
   "metadata": {
    "collapsed": false,
    "pycharm": {
     "name": "#%%\n",
     "is_executing": false
    }
   }
  },
  {
   "cell_type": "code",
   "execution_count": 112,
   "outputs": [],
   "source": [],
   "metadata": {
    "collapsed": false,
    "pycharm": {
     "name": "#%%\n",
     "is_executing": false
    }
   }
  },
  {
   "cell_type": "code",
   "execution_count": 112,
   "outputs": [],
   "source": [],
   "metadata": {
    "collapsed": false,
    "pycharm": {
     "name": "#%%\n",
     "is_executing": false
    }
   }
  },
  {
   "cell_type": "code",
   "execution_count": null,
   "metadata": {},
   "outputs": [],
   "source": []
  },
  {
   "cell_type": "code",
   "execution_count": null,
   "metadata": {},
   "outputs": [],
   "source": []
  },
  {
   "cell_type": "code",
   "execution_count": null,
   "metadata": {},
   "outputs": [],
   "source": []
  },
  {
   "cell_type": "code",
   "execution_count": null,
   "metadata": {},
   "outputs": [],
   "source": []
  },
  {
   "cell_type": "code",
   "execution_count": null,
   "metadata": {},
   "outputs": [],
   "source": []
  }
 ],
 "metadata": {
  "kernelspec": {
   "display_name": "Python 3",
   "language": "python",
   "name": "python3"
  },
  "language_info": {
   "codemirror_mode": {
    "name": "ipython",
    "version": 3
   },
   "file_extension": ".py",
   "mimetype": "text/x-python",
   "name": "python",
   "nbconvert_exporter": "python",
   "pygments_lexer": "ipython3",
   "version": "3.7.4"
  },
  "pycharm": {
   "stem_cell": {
    "cell_type": "raw",
    "source": [],
    "metadata": {
     "collapsed": false
    }
   }
  }
 },
 "nbformat": 4,
 "nbformat_minor": 1
}