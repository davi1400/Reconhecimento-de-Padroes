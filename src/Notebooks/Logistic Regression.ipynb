{
 "cells": [
  {
   "cell_type": "markdown",
   "source": [
    "# Regressão Logistica\n",
    "\n",
    " - Informações sobre o conjunto de dados\n",
    "    1. variance of Wavelet Transformed image (continuous)\n",
    "    2. skewness of Wavelet Transformed image (continuous)\n",
    "    3. curtosis of Wavelet Transformed image (continuous)\n",
    "    4. entropy of image (continuous)\n",
    "    5. class (integer)\n"
   ],
   "metadata": {
    "collapsed": false
   }
  },
  {
   "cell_type": "markdown",
   "source": [
    "No bloco abaixo estão definidos alguns import's necessarios para  o funcionamento do algoritmo, onde o mesmo foi\n",
    "separado em 5 blocos, onde os mesmo são treino, teste, gradiente descendente, predict, e o bloco de run, onde será\n",
    "testado o codigo."
   ],
   "metadata": {
    "collapsed": false,
    "pycharm": {
     "name": "#%% md\n"
    }
   }
  },
  {
   "cell_type": "code",
   "execution_count": 76,
   "metadata": {
    "pycharm": {
     "name": "#%%\n",
     "is_executing": false
    }
   },
   "outputs": [],
   "source": [
    "import sys \n",
    "\n",
    "sys.path.append(\"/home/davi/PycharmProjects/Reconhecimento-de-Padroes\")\n",
    "\n",
    "from sklearn.model_selection import train_test_split\n",
    "from numpy import zeros, concatenate, ones, where, array, argmin, log, exp, mean, argmax\n",
    "from numpy.random import rand\n",
    "from src.Utils.utils import sigmoid, get_data, normalize\n",
    "from sklearn.model_selection import KFold\n",
    "\n",
    "\n",
    "ephocs = 1000\n",
    "ERROR = [] \n",
    "\n",
    "# python notebook for logist regression"
   ]
  },
  {
   "cell_type": "markdown",
   "source": [
    "O bloco abaixo se refere ao bloco do gradiente descendente, onde há o calculo da derivada do erro: \n",
    "\n",
    "\\begin{equation}\n",
    "    \\nabla{E_{in}(\\mathbf{w})} = -\\frac{1}{N}\\sum_{n=1}^{N}\\frac{y_{n}\\mathbf{x_{n}}}{1 + e^{y_{n}\\mathbf{w'x_{n}}}} \n",
    "\\end{equation}"
   ],
   "metadata": {
    "collapsed": false,
    "pycharm": {
     "name": "#%% md\n"
    }
   }
  },
  {
   "cell_type": "code",
   "execution_count": 77,
   "metadata": {
    "pycharm": {
     "name": "#%%\n",
     "is_executing": false
    }
   },
   "outputs": [],
   "source": [
    "def gradient_descent(X, Y, U, error, eta=1e-1):\n",
    "    if array(Y, ndmin=2).shape[1] != 1:\n",
    "        aux_y = array(Y, ndmin=2).T\n",
    "    else:\n",
    "        aux_y = array(Y, ndmin=2)\n",
    "\n",
    "    derivate = (sum((aux_y * X) / (1 + exp(U))))*(1./len(aux_y))\n",
    "    return array(eta * derivate, ndmin=2).T"
   ]
  },
  {
   "cell_type": "markdown",
   "source": [
    "O bloco abaixo se refere ao bloco da predição, para ele é passado apenas:\n",
    "\n",
    "\\begin{equation} \n",
    "u = f(\\mathbf{x}) = \\sum_{i=1}^{p}{w_i \\cdot x_i}\n",
    "\\end{equation}\n",
    "\n",
    "e nele será calculado:\n",
    "\n",
    "\\begin{equation}\n",
    "    \\mathbb{P}[y|x] = \\begin{cases}\n",
    "        f(\\mathbf{x})  & y = +1 \\\\\n",
    "        1 -  f(\\mathbf{x}) &  y = -1\n",
    "        \\end{cases}\n",
    "\\end{equation}\n"
   ],
   "metadata": {
    "collapsed": false,
    "pycharm": {
     "name": "#%% md\n"
    }
   }
  },
  {
   "cell_type": "code",
   "execution_count": 78,
   "metadata": {
    "pycharm": {
     "is_executing": false
    }
   },
   "outputs": [],
   "source": [
    "def predict(u):\n",
    "    Y_output = zeros((u.shape[0], 1))\n",
    "    indices_j = where((1 - u) > u)\n",
    "    indices_i = where(u > (1 - u))\n",
    "    Y_output[indices_j] = -1\n",
    "    Y_output[indices_i] = 1\n",
    "\n",
    "    return Y_output"
   ]
  },
  {
   "cell_type": "markdown",
   "source": [
    "O bloco treino, esta logo abaixo e nele são executadas 1000 epocas\n"
   ],
   "metadata": {
    "collapsed": false,
    "pycharm": {
     "name": "#%% md\n"
    }
   }
  },
  {
   "cell_type": "code",
   "execution_count": 79,
   "metadata": {
    "pycharm": {
     "is_executing": false
    }
   },
   "outputs": [],
   "source": [
    "def train(x_train, y_train, eta=1e-1):\n",
    "    bias = -1. * ones((x_train.shape[0]))\n",
    "    x_train = concatenate((array(bias, ndmin=2).T, x_train), axis=1)\n",
    "    N_features = x_train.shape[1]\n",
    "    Wheigts = rand(N_features, 1)\n",
    "\n",
    "    for epoch in range(1000):\n",
    "        if array(y_train, ndmin=2).shape[1] != 1:\n",
    "            aux_y = array(y_train, ndmin=2).T\n",
    "        else:\n",
    "            aux_y = array(y_train, ndmin=2)\n",
    "        u = aux_y * (x_train.dot(Wheigts))\n",
    "        H = sigmoid(True, -u)\n",
    "        Y = predict(H)\n",
    "\n",
    "        # Error = Y - array(y_train, ndmin=2).T\n",
    "        Error = sum(log(1 + exp(-1. * u)))\n",
    "        if Error <= 1.:\n",
    "            ERROR.append(Error)\n",
    "            return Wheigts\n",
    "\n",
    "\n",
    "        Wheigts += gradient_descent(x_train, y_train, u, Error, eta=eta)\n",
    "\n",
    "    ERROR.append(Error)\n",
    "    return Wheigts"
   ]
  },
  {
   "cell_type": "markdown",
   "source": [
    "Bloco de teste"
   ],
   "metadata": {
    "collapsed": false,
    "pycharm": {
     "name": "#%% md\n"
    }
   }
  },
  {
   "cell_type": "code",
   "execution_count": 80,
   "metadata": {
    "pycharm": {
     "is_executing": false
    }
   },
   "outputs": [],
   "source": [
    "def test(Wheigts, x_test, y_test, flag=False):\n",
    "    bias = -1. * ones((x_test.shape[0]))\n",
    "    x_test = concatenate((array(bias, ndmin=2).T, x_test), axis=1)\n",
    "    u = x_test.dot(Wheigts)\n",
    "    H = sigmoid(True, u)\n",
    "    Y = predict(H)\n",
    "\n",
    "    if flag:\n",
    "        return Y\n",
    "\n",
    "    if array(y_test, ndmin=2).shape[1] != 1:\n",
    "        aux_y = array(y_test, ndmin=2).T\n",
    "    else:\n",
    "        aux_y = array(y_test, ndmin=2)\n",
    "    \n",
    "    accuracy = sum(Y == aux_y) / (1.0 * len(y_test))\n",
    "\n",
    "\n",
    "    return accuracy"
   ]
  },
  {
   "cell_type": "code",
   "execution_count": 81,
   "metadata": {
    "pycharm": {
     "name": "#%%\n",
     "is_executing": false
    }
   },
   "outputs": [
    {
     "name": "stdout",
     "text": [
      "[[  3.6216    8.6661   -2.8073   -0.44699]\n",
      " [  4.5459    8.1674   -2.4586   -1.4621 ]\n",
      " [  3.866    -2.6383    1.9242    0.10645]\n",
      " ...\n",
      " [ -3.7503  -13.4586   17.5932   -2.7771 ]\n",
      " [ -3.5637   -8.3827   12.393    -1.2823 ]\n",
      " [ -2.5419   -0.65804   2.6842    1.1952 ]]\n",
      "[[-1.]\n",
      " [-1.]\n",
      " [-1.]\n",
      " ...\n",
      " [ 1.]\n",
      " [ 1.]\n",
      " [ 1.]]\n"
     ],
     "output_type": "stream"
    }
   ],
   "source": [
    "\n",
    "data = get_data(\"data_banknote_authentication.txt\", type=\"csv\")\n",
    "number_lines = data.shape[0]\n",
    "number_columns = data.shape[1]\n",
    "X = array(data, ndmin=2)[:, :number_columns-1]\n",
    "Y =   array(array(data, ndmin=2)[:, number_columns-1], ndmin=2).T\n",
    "train_size = .8\n",
    "test_size = .2\n",
    "\n",
    "indices = where(Y == 0)\n",
    "Y[indices] = -1\n",
    "\n",
    "print(X)\n",
    "print(Y) \n"
   ]
  },
  {
   "cell_type": "code",
   "execution_count": null,
   "outputs": [
    {
     "name": "stdout",
     "text": [
      "[0.9854211843202669]\n",
      "[0.9854211843202669, 0.9863302752293578]\n",
      "[0.9854211843202669, 0.9863302752293578, 0.9863302752293578]\n",
      "[0.9854211843202669, 0.9863302752293578, 0.9863302752293578, 0.9653628023352795]\n"
     ],
     "output_type": "stream"
    }
   ],
   "source": [
    "acc = []\n",
    "acc_eta = []\n",
    "kf = KFold(n_splits=10)\n",
    "eta_validation_vector = [1., 0.15, 0.1, 1e-2, 1e-3]\n",
    "for realization in range(1):\n",
    "    x_train, x_test, y_train, y_test = train_test_split(X, Y, test_size=test_size)\n",
    "    \n",
    "    for eta_val in eta_validation_vector:\n",
    "        acc_validation = []\n",
    "        for train_index, test_index in kf.split(x_train):\n",
    "            # print(\"TRAIN:\", train_index, \"TEST:\", test_index)\n",
    "            x_train_val, x_test_val = x_train[train_index], x_train[test_index]\n",
    "            y_train_val, y_test_val = y_train[train_index], y_train[test_index]\n",
    "    \n",
    "            wheiths_val = train(x_train_val, y_train_val, eta=eta_val)\n",
    "            accuracy = test(wheiths_val, x_test_val, y_test_val)\n",
    "            \n",
    "            acc_validation.append(accuracy)\n",
    "        acc_eta.append(mean(acc_validation))\n",
    "        print(acc_eta)\n",
    "            \n",
    "            \n",
    "    indice = argmax(acc_eta)\n",
    "                \n",
    "    wheiths = train(x_train, y_train, eta=eta_validation_vector[indice])\n",
    "    accuracy = test(wheiths, x_test, y_test)\n",
    "    acc.append(accuracy)\n",
    "print(mean(acc))\n"
   ],
   "metadata": {
    "collapsed": false,
    "pycharm": {
     "name": "#%%\n",
     "is_executing": true
    }
   }
  }
 ],
 "metadata": {
  "kernelspec": {
   "display_name": "Python 3",
   "language": "python",
   "name": "python3"
  },
  "language_info": {
   "codemirror_mode": {
    "name": "ipython",
    "version": 3
   },
   "file_extension": ".py",
   "mimetype": "text/x-python",
   "name": "python",
   "nbconvert_exporter": "python",
   "pygments_lexer": "ipython3",
   "version": "3.7.4"
  },
  "pycharm": {
   "stem_cell": {
    "cell_type": "raw",
    "source": [],
    "metadata": {
     "collapsed": false
    }
   }
  }
 },
 "nbformat": 4,
 "nbformat_minor": 2
}