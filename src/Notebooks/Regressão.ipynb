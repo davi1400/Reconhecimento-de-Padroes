{
 "cells": [
  {
   "cell_type": "code",
   "execution_count": 121,
   "metadata": {
    "collapsed": true,
    "pycharm": {
     "is_executing": false
    }
   },
   "outputs": [],
   "source": [
    "import sys \n",
    "\n",
    "sys.path.append(\"/home/davi/PycharmProjects/Reconhecimento-de-Padroes\")\n",
    "\n",
    "from numpy import linspace, random, array, concatenate, dot, mean, zeros, ones, ravel, exp\n",
    "from numpy.linalg import inv\n",
    "from sklearn.model_selection import train_test_split\n",
    "import matplotlib.pyplot as plt \n",
    "import datetime\n",
    "\n",
    "import cvxopt\n",
    "import cvxopt.solvers\n",
    "\n",
    "test_size = .2"
   ]
  },
  {
   "cell_type": "code",
   "execution_count": 122,
   "outputs": [
    {
     "name": "stdout",
     "text": [
      "expected:  0.2829603536373245 -0.5486097852848968\n"
     ],
     "output_type": "stream"
    }
   ],
   "source": [
    "noise = random.rand(100)*4.0\n",
    "x = linspace(0.1,50., 100)\n",
    "alpha = random.uniform(0, 1)\n",
    "b = random.uniform(-1,1)\n",
    "y = (alpha*x + b) - noise\n",
    "print(\"expected: \", alpha, b)\n",
    "\n",
    "# plt.plot(x, y, 'r+')\n",
    "# plt.xlabel('x')\n",
    "# plt.ylabel('y')\n",
    "# plt.show()\n",
    "\n",
    "x = array(x, ndmin=2, dtype=float)\n",
    "y = array(y, ndmin=2, dtype=float)\n",
    "\n",
    "data = concatenate((x, y), axis=0).T\n",
    "random.shuffle(data)"
   ],
   "metadata": {
    "collapsed": false,
    "pycharm": {
     "name": "#%%\n",
     "is_executing": false
    }
   }
  },
  {
   "cell_type": "code",
   "execution_count": 123,
   "outputs": [],
   "source": [
    "def train(x_train, y_train, form=None, max_iter=None, learning_rate=None):\n",
    "    if form is None:\n",
    "        return \"Error\"\n",
    "    \n",
    "    forms = {\"normal equation\": normal_equation,\n",
    "             \"gradient descent\": gradient_descent,\n",
    "             \"kernel\": kernel}\n",
    "    \n",
    "    \n",
    "    return forms[form](x_train, y_train, max_iter, learning_rate)"
   ],
   "metadata": {
    "collapsed": false,
    "pycharm": {
     "name": "#%%\n",
     "is_executing": false
    }
   }
  },
  {
   "cell_type": "code",
   "execution_count": 124,
   "outputs": [],
   "source": [
    "def normal_equation(x_train, y_train, form):\n",
    "    pseudo_inverse = dot(inv(dot(x_train.T, x_train)), x_train.T)\n",
    "    weights = dot(pseudo_inverse,y_train)\n",
    "    \n",
    "    return weights\n",
    "    "
   ],
   "metadata": {
    "collapsed": false,
    "pycharm": {
     "name": "#%%\n",
     "is_executing": false
    }
   }
  },
  {
   "cell_type": "code",
   "execution_count": 125,
   "outputs": [],
   "source": [
    "def gradient_descent(x_train, y_train, max_iter, learning_rate):\n",
    "    number_lines, number_columns = x_train.shape\n",
    "    weights = zeros((number_columns, 1))\n",
    "    \n",
    "    for epoch in range(max_iter):\n",
    "        for point in range(number_lines):\n",
    "            y_output = dot(x_train[point], weights)\n",
    "            error = y_train[point] - y_output\n",
    "            aux = array(learning_rate*(x_train[point]*error), ndmin=2)\n",
    "            weights += aux.T\n",
    "        \n",
    "    return weights"
   ],
   "metadata": {
    "collapsed": false,
    "pycharm": {
     "name": "#%%\n",
     "is_executing": false
    }
   }
  },
  {
   "cell_type": "code",
   "execution_count": 126,
   "outputs": [],
   "source": [
    "def kernel(x_train, y_train, max_iter, learning_rate):\n",
    "     \n",
    "    number_lines, number_columns = x_train.shape\n",
    "    gausian = zeros((number_lines, number_lines))\n",
    "    for i in range(number_lines):\n",
    "        for j in range(number_lines):\n",
    "            gausian[i][j] = dot(x_train[i]- x_train[j],(x_train[i]- x_train[j]).T) \n",
    "    \n",
    "    # print(gausian)\n",
    "    sigma = 1\n",
    "    adjust = -1./(sigma**2)\n",
    "    gausian_kernel = inv(exp(adjust*gausian))\n",
    "    poynomial_kernel = (dot(x_train, x_train.T)+1)**2\n",
    "    k = poynomial_kernel\n",
    "    alphas = dot(inv(k),  y_train)\n",
    "    \n",
    "    return gausian_kernel\n",
    "\n"
   ],
   "metadata": {
    "collapsed": false,
    "pycharm": {
     "name": "#%%\n",
     "is_executing": false
    }
   }
  },
  {
   "cell_type": "code",
   "execution_count": 127,
   "outputs": [],
   "source": [
    "def calculate_kernel(x_train, x_test):\n",
    "    \n",
    "    number_lines, number_columns = x_test.shape\n",
    "    gausian = zeros((x_train.shape[0], x_test.shape[0]))\n",
    "    for i in range(x_test.shape[0]):\n",
    "        for j in range(x_train.shape[0]):\n",
    "            gausian[j][i] = dot(x_train[j]- x_test[i],(x_train[j]- x_test[i]).T) \n",
    "    \n",
    "    # print(gausian)\n",
    "    sigma = 1\n",
    "    adjust = -1./(sigma**2)\n",
    "    gausian_kernel = exp(adjust*gausian)\n",
    "    poynomial_kernel = (dot(x_test, x_train.T)+1)**2\n",
    "    \n",
    "    return gausian_kernel\n",
    "\n",
    "def test(x_test, y_test, weights):\n",
    "    \n",
    "    number_examples = x_test.shape[0]\n",
    "    output = dot(x_test, weights)\n",
    "    error = sum((y_test-output)**2)*(1./(number_examples*1.0))\n",
    "    \n",
    "    return error\n"
   ],
   "metadata": {
    "collapsed": false,
    "pycharm": {
     "name": "#%%\n",
     "is_executing": false
    }
   }
  },
  {
   "cell_type": "code",
   "execution_count": 128,
   "outputs": [],
   "source": [
    "def test_kernel(x_test, x_train, y_test, alphas, weights, bias):\n",
    "     \n",
    "     # number_lines_t, number_columns_t = x_train.shape\n",
    "     # number_lines, number_columns = x_test.shape\n",
    "     # gausian = zeros((number_lines, number_lines))\n",
    "     # for i in range(number_lines):\n",
    "     #     for j in range(number_columns_t):\n",
    "     number_examples = x_test.shape[0]\n",
    "     gausian = calculate_kernel(x_train, x_test)\n",
    "     y_output = dot(gausian, alphas)\n",
    "     error = sum((y_test-y_output)**2)*(1./(number_examples*1.0))\n",
    "     \n",
    "    \n",
    "     return error\n",
    "    "
   ],
   "metadata": {
    "collapsed": false,
    "pycharm": {
     "name": "#%%\n",
     "is_executing": false
    }
   }
  },
  {
   "cell_type": "markdown",
   "source": [
    "# Primeiro utilizado o modelo com a formula fechada"
   ],
   "metadata": {
    "collapsed": false,
    "pycharm": {
     "name": "#%% md\n"
    }
   }
  },
  {
   "cell_type": "code",
   "execution_count": 129,
   "outputs": [],
   "source": [
    "x = array(data[:, 0], ndmin=2).T\n",
    "y = array(data[:, 1], ndmin=2).T"
   ],
   "metadata": {
    "collapsed": false,
    "pycharm": {
     "name": "#%%\n",
     "is_executing": false
    }
   }
  },
  {
   "cell_type": "code",
   "execution_count": 130,
   "outputs": [
    {
     "name": "stdout",
     "text": [
      "Media do erro:  3.277454452627193\n",
      "Media de tempo:  80.2\n",
      "Numero de dados de treino:  80\n"
     ],
     "output_type": "stream"
    },
    {
     "data": {
      "text/plain": "<Figure size 432x288 with 1 Axes>",
      "image/png": "[encoded data removed]"
     },
     "metadata": {
      "needs_background": "light"
     },
     "output_type": "display_data"
    }
   ],
   "source": [
    "all_errors = []\n",
    "all_times = []\n",
    "for realization in range(10):\n",
    "    \n",
    "     x_train, x_test, y_train, y_test = train_test_split(x, y, test_size=test_size)\n",
    "     start = datetime.datetime.now()\n",
    "     weights = normal_equation(x_train, y_train, 'normal equation')\n",
    "     final = datetime.datetime.now()\n",
    "     time = (final-start).microseconds\n",
    "     error = test(x_test, y_test, weights)\n",
    "     all_errors.append(error)\n",
    "     all_times.append(time)\n",
    "     \n",
    "print(\"Media do erro: \",mean(all_errors))\n",
    "print(\"Media de tempo: \", mean(all_times))\n",
    "print(\"Numero de dados de treino: \", x_train.shape[0])\n",
    "plt.plot(x, y, 'r+')\n",
    "plt.plot(x, dot(x, weights))\n",
    "plt.show()   \n",
    "    \n",
    "    "
   ],
   "metadata": {
    "collapsed": false,
    "pycharm": {
     "name": "#%%\n",
     "is_executing": false
    }
   }
  },
  {
   "cell_type": "markdown",
   "source": [
    "# Agora utilizando otimização com gradiente descendente\n"
   ],
   "metadata": {
    "collapsed": false,
    "pycharm": {
     "name": "#%% md\n"
    }
   }
  },
  {
   "cell_type": "code",
   "execution_count": 131,
   "outputs": [
    {
     "name": "stdout",
     "text": [
      "Media do erro:  10.877881671119901\n",
      "Media de tempo:  503343.3\n",
      "Numero de dados de treino:  80\n"
     ],
     "output_type": "stream"
    },
    {
     "data": {
      "text/plain": "<Figure size 432x288 with 1 Axes>",
      "image/png": "[encoded data removed]"
     },
     "metadata": {
      "needs_background": "light"
     },
     "output_type": "display_data"
    }
   ],
   "source": [
    "\n",
    "bias = ones((x.shape[0], 1))\n",
    "x_new = concatenate((bias, x), axis=1)\n",
    "\n",
    "all_errors = []\n",
    "all_times = []\n",
    "for realization in range(10):\n",
    "    \n",
    "     x_train, x_test, y_train, y_test = train_test_split(x_new, y, test_size=test_size)\n",
    "     start = datetime.datetime.now()\n",
    "     weights = train(x_train, y_train, max_iter=1000, learning_rate=1e-3, form=\"gradient descent\")\n",
    "     final = datetime.datetime.now()\n",
    "     time = (final-start).microseconds\n",
    "     error = test(x_test, y_test, weights)\n",
    "     all_errors.append(error)\n",
    "     all_times.append(time)\n",
    "     \n",
    "print(\"Media do erro: \",mean(all_errors))\n",
    "print(\"Media de tempo: \", mean(all_times))\n",
    "print(\"Numero de dados de treino: \", x_train.shape[0]) \n",
    "   \n",
    "plt.plot(x, y, 'r+')\n",
    "plt.plot(x, dot(x_new, weights))\n",
    "plt.show()   \n",
    "    "
   ],
   "metadata": {
    "collapsed": false,
    "pycharm": {
     "name": "#%%\n",
     "is_executing": false
    }
   }
  },
  {
   "cell_type": "markdown",
   "source": [
    "# Agora utilizando o metodo de regressão com kernel\n"
   ],
   "metadata": {
    "collapsed": false
   }
  },
  {
   "cell_type": "code",
   "execution_count": 132,
   "outputs": [
    {
     "traceback": [
      "\u001b[0;31m---------------------------------------------------------------------------\u001b[0m",
      "\u001b[0;31mValueError\u001b[0m                                Traceback (most recent call last)",
      "\u001b[0;32m<ipython-input-132-7f9efa8e8eb2>\u001b[0m in \u001b[0;36m<module>\u001b[0;34m\u001b[0m\n\u001b[1;32m      9\u001b[0m     \u001b[0mtime\u001b[0m \u001b[0;34m=\u001b[0m \u001b[0;34m(\u001b[0m\u001b[0mfinal\u001b[0m\u001b[0;34m-\u001b[0m\u001b[0mstart\u001b[0m\u001b[0;34m)\u001b[0m\u001b[0;34m.\u001b[0m\u001b[0mmicroseconds\u001b[0m\u001b[0;34m\u001b[0m\u001b[0;34m\u001b[0m\u001b[0m\n\u001b[1;32m     10\u001b[0m     \u001b[0;31m# print(weights)\u001b[0m\u001b[0;34m\u001b[0m\u001b[0;34m\u001b[0m\u001b[0;34m\u001b[0m\u001b[0m\n\u001b[0;32m---> 11\u001b[0;31m     \u001b[0merror\u001b[0m \u001b[0;34m=\u001b[0m \u001b[0mtest_kernel\u001b[0m\u001b[0;34m(\u001b[0m\u001b[0mx_test\u001b[0m\u001b[0;34m,\u001b[0m \u001b[0mx_train\u001b[0m\u001b[0;34m,\u001b[0m\u001b[0my_test\u001b[0m\u001b[0;34m,\u001b[0m \u001b[0malphas\u001b[0m\u001b[0;34m,\u001b[0m \u001b[0;32mNone\u001b[0m\u001b[0;34m,\u001b[0m \u001b[0mbias\u001b[0m\u001b[0;34m)\u001b[0m\u001b[0;34m\u001b[0m\u001b[0;34m\u001b[0m\u001b[0m\n\u001b[0m\u001b[1;32m     12\u001b[0m     \u001b[0;31m# print(error)\u001b[0m\u001b[0;34m\u001b[0m\u001b[0;34m\u001b[0m\u001b[0;34m\u001b[0m\u001b[0m\n\u001b[1;32m     13\u001b[0m     \u001b[0mall_errors\u001b[0m\u001b[0;34m.\u001b[0m\u001b[0mappend\u001b[0m\u001b[0;34m(\u001b[0m\u001b[0merror\u001b[0m\u001b[0;34m)\u001b[0m\u001b[0;34m\u001b[0m\u001b[0;34m\u001b[0m\u001b[0m\n",
      "\u001b[0;32m<ipython-input-128-5f51d9f85e4c>\u001b[0m in \u001b[0;36mtest_kernel\u001b[0;34m(x_test, x_train, y_test, alphas, weights, bias)\u001b[0m\n\u001b[1;32m      8\u001b[0m      \u001b[0mnumber_examples\u001b[0m \u001b[0;34m=\u001b[0m \u001b[0mx_test\u001b[0m\u001b[0;34m.\u001b[0m\u001b[0mshape\u001b[0m\u001b[0;34m[\u001b[0m\u001b[0;36m0\u001b[0m\u001b[0;34m]\u001b[0m\u001b[0;34m\u001b[0m\u001b[0;34m\u001b[0m\u001b[0m\n\u001b[1;32m      9\u001b[0m      \u001b[0mgausian\u001b[0m \u001b[0;34m=\u001b[0m \u001b[0mcalculate_kernel\u001b[0m\u001b[0;34m(\u001b[0m\u001b[0mx_train\u001b[0m\u001b[0;34m,\u001b[0m \u001b[0mx_test\u001b[0m\u001b[0;34m)\u001b[0m\u001b[0;34m\u001b[0m\u001b[0;34m\u001b[0m\u001b[0m\n\u001b[0;32m---> 10\u001b[0;31m      \u001b[0my_output\u001b[0m \u001b[0;34m=\u001b[0m \u001b[0mdot\u001b[0m\u001b[0;34m(\u001b[0m\u001b[0mgausian\u001b[0m\u001b[0;34m,\u001b[0m \u001b[0malphas\u001b[0m\u001b[0;34m)\u001b[0m\u001b[0;34m\u001b[0m\u001b[0;34m\u001b[0m\u001b[0m\n\u001b[0m\u001b[1;32m     11\u001b[0m      \u001b[0merror\u001b[0m \u001b[0;34m=\u001b[0m \u001b[0msum\u001b[0m\u001b[0;34m(\u001b[0m\u001b[0;34m(\u001b[0m\u001b[0my_test\u001b[0m\u001b[0;34m-\u001b[0m\u001b[0my_output\u001b[0m\u001b[0;34m)\u001b[0m\u001b[0;34m**\u001b[0m\u001b[0;36m2\u001b[0m\u001b[0;34m)\u001b[0m\u001b[0;34m*\u001b[0m\u001b[0;34m(\u001b[0m\u001b[0;36m1.\u001b[0m\u001b[0;34m/\u001b[0m\u001b[0;34m(\u001b[0m\u001b[0mnumber_examples\u001b[0m\u001b[0;34m*\u001b[0m\u001b[0;36m1.0\u001b[0m\u001b[0;34m)\u001b[0m\u001b[0;34m)\u001b[0m\u001b[0;34m\u001b[0m\u001b[0;34m\u001b[0m\u001b[0m\n\u001b[1;32m     12\u001b[0m \u001b[0;34m\u001b[0m\u001b[0m\n",
      "\u001b[0;32m<__array_function__ internals>\u001b[0m in \u001b[0;36mdot\u001b[0;34m(*args, **kwargs)\u001b[0m\n",
      "\u001b[0;31mValueError\u001b[0m: shapes (80,20) and (80,80) not aligned: 20 (dim 1) != 80 (dim 0)"
     ],
     "ename": "ValueError",
     "evalue": "shapes (80,20) and (80,80) not aligned: 20 (dim 1) != 80 (dim 0)",
     "output_type": "error"
    }
   ],
   "source": [
    "all_errors = []\n",
    "all_times = []\n",
    "for realization in range(10):\n",
    "    \n",
    "    x_train, x_test, y_train, y_test = train_test_split(x_new, y, test_size=test_size)\n",
    "    start = datetime.datetime.now()\n",
    "    alphas  = train(x_train, y_train, form='kernel')\n",
    "    final = datetime.datetime.now()\n",
    "    time = (final-start).microseconds\n",
    "    # print(weights)\n",
    "    error = test_kernel(x_test, x_train,y_test, alphas, None, bias)\n",
    "    # print(error)\n",
    "    all_errors.append(error)\n",
    "    all_times.append(time)\n",
    "    \n",
    "print(\"Media do erro: \",mean(all_errors))\n",
    "print(\"Media de tempo: \", mean(all_times))\n",
    "print(\"Numero de dados de treino: \", x_train.shape[0]) \n",
    "   \n",
    "\n",
    "# plt.plot(x, y, 'r+')\n",
    "# aux = dot(weights, x.T)\n",
    "# bias = y - aux.T \n",
    "# plt.plot(x, aux.T)\n",
    "# plt.show()  "
   ],
   "metadata": {
    "collapsed": false,
    "pycharm": {
     "name": "#%%\n",
     "is_executing": false
    }
   }
  }
 ],
 "metadata": {
  "kernelspec": {
   "display_name": "Python 3",
   "language": "python",
   "name": "python3"
  },
  "language_info": {
   "codemirror_mode": {
    "name": "ipython",
    "version": 2
   },
   "file_extension": ".py",
   "mimetype": "text/x-python",
   "name": "python",
   "nbconvert_exporter": "python",
   "pygments_lexer": "ipython2",
   "version": "2.7.6"
  },
  "pycharm": {
   "stem_cell": {
    "cell_type": "raw",
    "source": [],
    "metadata": {
     "collapsed": false
    }
   }
  }
 },
 "nbformat": 4,
 "nbformat_minor": 0
}