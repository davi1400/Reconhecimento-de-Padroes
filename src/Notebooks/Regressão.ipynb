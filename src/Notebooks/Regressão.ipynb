{
 "cells": [
  {
   "cell_type": "code",
   "execution_count": 599,
   "metadata": {
    "collapsed": true,
    "pycharm": {
     "is_executing": false
    }
   },
   "outputs": [],
   "source": [
    "import sys \n",
    "\n",
    "sys.path.append(\"/home/davi/PycharmProjects/Reconhecimento-de-Padroes\")\n",
    "\n",
    "from numpy import linspace, random, array, concatenate, dot, mean, zeros, ones\n",
    "from numpy.linalg import inv\n",
    "from sklearn.model_selection import train_test_split\n",
    "import matplotlib.pyplot as plt \n",
    "\n",
    "test_size = .2"
   ]
  },
  {
   "cell_type": "code",
   "execution_count": 600,
   "outputs": [],
   "source": [
    "noise = random.rand(100)*4.0\n",
    "x = linspace(0.1,50., 100)\n",
    "alpha = random.uniform(0, 1)\n",
    "b = random.uniform(-1,1)\n",
    "y = (alpha*x + b) - noise\n",
    "\n",
    "# plt.plot(x, y, 'r+')\n",
    "# plt.xlabel('x')\n",
    "# plt.ylabel('y')\n",
    "# plt.show()\n",
    "\n",
    "x = array(x, ndmin=2, dtype=float)\n",
    "y = array(y, ndmin=2, dtype=float)\n",
    "\n",
    "data = concatenate((x, y), axis=0).T\n",
    "random.shuffle(data)"
   ],
   "metadata": {
    "collapsed": false,
    "pycharm": {
     "name": "#%%\n",
     "is_executing": false
    }
   }
  },
  {
   "cell_type": "code",
   "execution_count": 601,
   "outputs": [],
   "source": [
    "def train(x_train, y_train, form=None, max_iter=None, learning_rate=None):\n",
    "    if form is None:\n",
    "        return \"Error\"\n",
    "    \n",
    "    forms = {\"normal equation\": normal_equation,\n",
    "             \"gradient descent\": gradient_descent,\n",
    "             \"kernnel\": kernel}\n",
    "    \n",
    "    return forms[form](x_train, y_train, max_iter, learning_rate)"
   ],
   "metadata": {
    "collapsed": false,
    "pycharm": {
     "name": "#%%\n",
     "is_executing": false
    }
   }
  },
  {
   "cell_type": "code",
   "execution_count": 602,
   "outputs": [],
   "source": [
    "def normal_equation(x_train, y_train, max, learning_rate):\n",
    "\n",
    "    pseudo_inverse = dot(inv(dot(x_train.T, x_train)), x_train.T)\n",
    "    weights = dot(pseudo_inverse,y_train)\n",
    "    \n",
    "    return weights\n",
    "    "
   ],
   "metadata": {
    "collapsed": false,
    "pycharm": {
     "name": "#%%\n",
     "is_executing": false
    }
   }
  },
  {
   "cell_type": "code",
   "execution_count": 603,
   "outputs": [],
   "source": [
    "def gradient_descent(x_train, y_train, max_iter, learning_rate):\n",
    "    number_lines, number_columns = x_train.shape\n",
    "    weights = zeros((number_columns, 1))\n",
    "    print(max_iter)\n",
    "    for epoch in range(max_iter):\n",
    "        for point in range(number_lines):\n",
    "            y_output = dot(x_train[point], weights)\n",
    "            error = y_train[point] - y_output\n",
    "            aux = array(learning_rate*(x_train[point]*error), ndmin=2)\n",
    "            weights += aux.T\n",
    "        \n",
    "    return weights"
   ],
   "metadata": {
    "collapsed": false,
    "pycharm": {
     "name": "#%%\n",
     "is_executing": false
    }
   }
  },
  {
   "cell_type": "code",
   "execution_count": 604,
   "outputs": [],
   "source": [
    "def kernel():\n",
    "    pass\n"
   ],
   "metadata": {
    "collapsed": false,
    "pycharm": {
     "name": "#%%\n",
     "is_executing": false
    }
   }
  },
  {
   "cell_type": "code",
   "execution_count": 605,
   "outputs": [],
   "source": [
    "def test(x_test, y_test, weights):\n",
    "    \n",
    "    number_examples = x_test.shape[0]\n",
    "    output = dot(x_test, weights)\n",
    "    error = sum((y_test-output)**2)*(1./(number_examples*1.0))\n",
    "    \n",
    "    return error\n",
    "\n"
   ],
   "metadata": {
    "collapsed": false,
    "pycharm": {
     "name": "#%%\n",
     "is_executing": false
    }
   }
  },
  {
   "cell_type": "markdown",
   "source": [
    "# Primeiro utilizado o modelo com a formula fechada"
   ],
   "metadata": {
    "collapsed": false,
    "pycharm": {
     "name": "#%% md\n"
    }
   }
  },
  {
   "cell_type": "code",
   "execution_count": 606,
   "outputs": [],
   "source": [
    "x = array(data[:, 0], ndmin=2).T\n",
    "y = array(data[:, 1], ndmin=2).T"
   ],
   "metadata": {
    "collapsed": false,
    "pycharm": {
     "name": "#%%\n",
     "is_executing": false
    }
   }
  },
  {
   "cell_type": "code",
   "execution_count": 607,
   "outputs": [
    {
     "name": "stdout",
     "text": [
      "Media do erro:  3.8111843869993045\n"
     ],
     "output_type": "stream"
    },
    {
     "data": {
      "text/plain": "<Figure size 432x288 with 1 Axes>",
      "image/png": "[encoded data removed]"
     },
     "metadata": {
      "needs_background": "light"
     },
     "output_type": "display_data"
    }
   ],
   "source": [
    "all_errors = []\n",
    "for realization in range(10):\n",
    "    \n",
    "     x_train, x_test, y_train, y_test = train_test_split(x, y, test_size=test_size)\n",
    "     weights = train(x_train, y_train, form=\"normal equation\")\n",
    "     error = test(x_test, y_test, weights)\n",
    "     all_errors.append(error)\n",
    "     \n",
    "print(\"Media do erro: \",mean(all_errors))\n",
    "\n",
    "plt.plot(x, y, 'r+')\n",
    "plt.plot(x, dot(x, weights))\n",
    "plt.show()   \n",
    "    \n",
    "    "
   ],
   "metadata": {
    "collapsed": false,
    "pycharm": {
     "name": "#%%\n",
     "is_executing": false
    }
   }
  },
  {
   "cell_type": "markdown",
   "source": [
    "# Agora utilizando otimização com gradiente descendente\n"
   ],
   "metadata": {
    "collapsed": false,
    "pycharm": {
     "name": "#%% md\n"
    }
   }
  },
  {
   "cell_type": "code",
   "execution_count": 609,
   "outputs": [
    {
     "name": "stdout",
     "text": [
      "1000\n",
      "1000\n",
      "1000\n",
      "1000\n",
      "1000\n",
      "1000\n",
      "1000\n",
      "1000\n",
      "1000\n",
      "1000\n",
      "Media do erro:  2.6078850070638606\n"
     ],
     "output_type": "stream"
    },
    {
     "data": {
      "text/plain": "<Figure size 432x288 with 1 Axes>",
      "image/png": "[encoded data removed]"
     },
     "metadata": {
      "needs_background": "light"
     },
     "output_type": "display_data"
    }
   ],
   "source": [
    "bias = ones((x.shape[0], 1))\n",
    "x_new = concatenate((bias, x), axis=1)\n",
    "\n",
    "for realization in range(10):\n",
    "    \n",
    "    x_train, x_test, y_train, y_test = train_test_split(x_new, y, test_size=test_size)\n",
    "    weights = train(x_train, y_train, max_iter=1000, learning_rate=1e-3, form=\"gradient descent\")\n",
    "    error = test(x_test, y_test, weights)\n",
    "    all_errors.append(error)\n",
    "     \n",
    "print(\"Media do erro: \",mean(all_errors))\n",
    "\n",
    "plt.plot(x, y, 'r+')\n",
    "plt.plot(x, dot(x_new, weights))\n",
    "plt.show()   \n",
    "    "
   ],
   "metadata": {
    "collapsed": false,
    "pycharm": {
     "name": "#%%x_train, y_train, max_iter, learning_rate)\n",
     "is_executing": false
    }
   }
  },
  {
   "cell_type": "markdown",
   "source": [
    "# Agora utilizando o metodo de regressão com kernel\n"
   ],
   "metadata": {
    "collapsed": false
   }
  }
 ],
 "metadata": {
  "kernelspec": {
   "display_name": "Python 3",
   "language": "python",
   "name": "python3"
  },
  "language_info": {
   "codemirror_mode": {
    "name": "ipython",
    "version": 2
   },
   "file_extension": ".py",
   "mimetype": "text/x-python",
   "name": "python",
   "nbconvert_exporter": "python",
   "pygments_lexer": "ipython2",
   "version": "2.7.6"
  },
  "pycharm": {
   "stem_cell": {
    "cell_type": "raw",
    "source": [],
    "metadata": {
     "collapsed": false
    }
   }
  }
 },
 "nbformat": 4,
 "nbformat_minor": 0
}