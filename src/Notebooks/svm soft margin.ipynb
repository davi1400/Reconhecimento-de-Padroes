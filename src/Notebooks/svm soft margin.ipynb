{
 "cells": [
  {
   "cell_type": "markdown",
   "metadata": {
    "collapsed": true,
    "pycharm": {
     "name": "#%% md\n"
    }
   },
   "source": [
    "# Support vector machines soft margin\n",
    "\n",
    " - Informações sobre o conjunto de dados\n",
    "    1. variance of Wavelet Transformed image (continuous)\n",
    "    2. skewness of Wavelet Transformed image (continuous)\n",
    "    3. curtosis of Wavelet Transformed image (continuous)\n",
    "    4. entropy of image (continuous)\n",
    "    5. class (integer)\n",
    "\n",
    "\n"
   ]
  },
  {
   "cell_type": "code",
   "execution_count": 1,
   "outputs": [],
   "source": [
    "import sys \n",
    "\n",
    "sys.path.append(\"/home/davi/PycharmProjects/Reconhecimento-de-Padroes\")\n",
    "\n",
    "from sklearn.model_selection import KFold\n",
    "from Strings import string\n",
    "from sklearn.model_selection import train_test_split\n",
    "from numpy import zeros, identity, array, concatenate, \\\n",
    "    ones, ravel, dot, where\n",
    "from src.Utils.utils import get_accuracy, get_data\n",
    "import cvxopt\n",
    "import cvxopt.solvers"
   ],
   "metadata": {
    "collapsed": false,
    "pycharm": {
     "name": "#%%\n",
     "is_executing": false
    }
   }
  },
  {
   "cell_type": "code",
   "execution_count": 2,
   "outputs": [],
   "source": [
    "def get_p(number_lines, number_columns):\n",
    "     \n",
    "    \n",
    "    # tmp1 = concatenate((ones((number_columns - 1, 1)), zeros((number_columns - 1, 1))), axis=1)\n",
    "    # tmp2 = zeros((1, number_columns - 1))\n",
    "    # tmp3 = concatenate((tmp1, tmp2))\n",
    "    # tmp4 = zeros((number_columns, 1))\n",
    "    # tmp5 = concatenate((tmp3, tmp4), axis=1)\n",
    "    # tmp_aux = array([[1, 0, 0], [0, 1, 0], [0, 0, 0]])\n",
    "    tmp_aux = identity(number_lines)\n",
    "    tmp_aux[:, number_columns] = 0\n",
    "    P = cvxopt.matrix(tmp_aux, tc='d')\n",
    "    \n",
    "    return P"
   ],
   "metadata": {
    "collapsed": false,
    "pycharm": {
     "name": "#%%\n",
     "is_executing": false
    }
   }
  },
  {
   "cell_type": "code",
   "execution_count": 3,
   "outputs": [],
   "source": [
    "def get_q(number_columns):\n",
    "    tmp1 = zeros((number_columns, 1))\n",
    "    Q = cvxopt.matrix(tmp1)\n",
    "    \n",
    "    return Q"
   ],
   "metadata": {
    "collapsed": false,
    "pycharm": {
     "name": "#%%\n",
     "is_executing": false
    }
   }
  },
  {
   "cell_type": "code",
   "execution_count": 4,
   "outputs": [],
   "source": [
    "def get_g(x, y, number_lines):\n",
    "    tmp2 = array(y, ndmin=2).T * concatenate((x, ones((number_lines, 1))), axis=1)\n",
    "    G = cvxopt.matrix(tmp2 * -1.)\n",
    "\n",
    "    return G"
   ],
   "metadata": {
    "collapsed": false,
    "pycharm": {
     "name": "#%%\n",
     "is_executing": false
    }
   }
  },
  {
   "cell_type": "code",
   "execution_count": 5,
   "outputs": [],
   "source": [
    "def get_h(number_lines):\n",
    "    tmp2 = ones((number_lines, 1))\n",
    "    H = cvxopt.matrix(tmp2 * -1.)\n",
    "\n",
    "    return H"
   ],
   "metadata": {
    "collapsed": false,
    "pycharm": {
     "name": "#%%\n",
     "is_executing": false
    }
   }
  },
  {
   "cell_type": "code",
   "execution_count": 6,
   "outputs": [],
   "source": [
    "def quadratic_solver(x_train, y_train):\n",
    "    \n",
    "    number_lines, number_columns = x_train.shape\n",
    "    \n",
    "    P = get_p(number_lines, number_columns)\n",
    "    Q = get_q(number_columns)\n",
    "    G = get_g(x_train, y_train, number_lines)\n",
    "    H = get_h(number_lines)\n",
    "\n",
    "    try:\n",
    "        solution = cvxopt.solvers.qp(P, Q, G, H)\n",
    "    except ValueError as error:\n",
    "        return None\n",
    "\n",
    "    best_weights = ravel(solution['x'])\n",
    "\n",
    "    return best_weights\n"
   ],
   "metadata": {
    "collapsed": false,
    "pycharm": {
     "name": "#%%\n",
     "is_executing": false
    }
   }
  },
  {
   "cell_type": "code",
   "execution_count": 7,
   "outputs": [],
   "source": [
    "def train(x_train, y_train):\n",
    "    solution = quadratic_solver(x_train, y_train)\n",
    "    return solution"
   ],
   "metadata": {
    "collapsed": false,
    "pycharm": {
     "name": "#%%\n",
     "is_executing": false
    }
   }
  },
  {
   "cell_type": "code",
   "execution_count": 8,
   "outputs": [],
   "source": [
    "def get_foward(weights, x_test):\n",
    "    H_output = dot(x_test, array(weights[:2], ndmin=2).T) + weights[2]\n",
    "    vec_sup = sum(H_output == 1.)\n",
    "    return H_output\n"
   ],
   "metadata": {
    "collapsed": false,
    "pycharm": {
     "name": "#%%\n",
     "is_executing": false
    }
   }
  },
  {
   "cell_type": "code",
   "execution_count": 9,
   "outputs": [],
   "source": [
    "def predict(h, domain=None):\n",
    "    if domain == [-1., 1.]:\n",
    "        for i in range(len(h)):\n",
    "            if h[i][0] > 0:\n",
    "                h[i][0] = 1\n",
    "            else:\n",
    "                h[i][0] = -1\n",
    "\n",
    "        return h\n",
    "    "
   ],
   "metadata": {
    "collapsed": false,
    "pycharm": {
     "name": "#%%\n",
     "is_executing": false
    }
   }
  },
  {
   "cell_type": "code",
   "execution_count": 10,
   "outputs": [],
   "source": [
    "def test(weights, x_test, y_test):\n",
    "    h_output = get_foward(weights, x_test)\n",
    "    y_output = predict(h_output, domain=[-1., 1.])\n",
    "    accuracy = get_accuracy(y_output, array(y_test, ndmin=2).T)\n",
    "    \n",
    "    return accuracy"
   ],
   "metadata": {
    "collapsed": false,
    "pycharm": {
     "name": "#%%\n",
     "is_executing": false
    }
   }
  },
  {
   "cell_type": "code",
   "execution_count": 11,
   "outputs": [
    {
     "name": "stdout",
     "text": [
      "[[  3.6216    8.6661   -2.8073   -0.44699]\n",
      " [  4.5459    8.1674   -2.4586   -1.4621 ]\n",
      " [  3.866    -2.6383    1.9242    0.10645]\n",
      " ...\n",
      " [ -3.7503  -13.4586   17.5932   -2.7771 ]\n",
      " [ -3.5637   -8.3827   12.393    -1.2823 ]\n",
      " [ -2.5419   -0.65804   2.6842    1.1952 ]]\n",
      "[[0.]\n",
      " [0.]\n",
      " [0.]\n",
      " ...\n",
      " [1.]\n",
      " [1.]\n",
      " [1.]]\n"
     ],
     "output_type": "stream"
    }
   ],
   "source": [
    "data = get_data(\"data_banknote_authentication.txt\", type=\"csv\")\n",
    "number_lines = data.shape[0]\n",
    "number_columns = data.shape[1]\n",
    "X = array(data, ndmin=2)[:, :number_columns-1]\n",
    "Y =   array(array(data, ndmin=2)[:, number_columns-1], ndmin=2).T\n",
    "train_size = .8\n",
    "test_size = .2\n",
    "\n",
    "indices = where(Y == -1)\n",
    "Y[indices] = 0\n",
    "\n",
    "print(X)\n",
    "print(Y)"
   ],
   "metadata": {
    "collapsed": false,
    "pycharm": {
     "name": "#%%\n",
     "is_executing": false
    }
   }
  },
  {
   "cell_type": "code",
   "execution_count": 12,
   "outputs": [
    {
     "traceback": [
      "\u001b[0;31m---------------------------------------------------------------------------\u001b[0m",
      "\u001b[0;31mValueError\u001b[0m                                Traceback (most recent call last)",
      "\u001b[0;32m<ipython-input-12-a1ba25872e07>\u001b[0m in \u001b[0;36m<module>\u001b[0;34m\u001b[0m\n\u001b[1;32m      2\u001b[0m     \u001b[0mx_train\u001b[0m\u001b[0;34m,\u001b[0m \u001b[0mx_test\u001b[0m\u001b[0;34m,\u001b[0m \u001b[0my_train\u001b[0m\u001b[0;34m,\u001b[0m \u001b[0my_test\u001b[0m \u001b[0;34m=\u001b[0m \u001b[0mtrain_test_split\u001b[0m\u001b[0;34m(\u001b[0m\u001b[0mX\u001b[0m\u001b[0;34m,\u001b[0m \u001b[0mY\u001b[0m\u001b[0;34m,\u001b[0m \u001b[0mtest_size\u001b[0m\u001b[0;34m=\u001b[0m\u001b[0mtest_size\u001b[0m\u001b[0;34m)\u001b[0m\u001b[0;34m\u001b[0m\u001b[0;34m\u001b[0m\u001b[0m\n\u001b[1;32m      3\u001b[0m \u001b[0;34m\u001b[0m\u001b[0m\n\u001b[0;32m----> 4\u001b[0;31m     \u001b[0mweights\u001b[0m \u001b[0;34m=\u001b[0m \u001b[0mtrain\u001b[0m\u001b[0;34m(\u001b[0m\u001b[0mx_train\u001b[0m\u001b[0;34m,\u001b[0m \u001b[0my_train\u001b[0m\u001b[0;34m)\u001b[0m\u001b[0;34m\u001b[0m\u001b[0;34m\u001b[0m\u001b[0m\n\u001b[0m\u001b[1;32m      5\u001b[0m     \u001b[0maccuracy\u001b[0m \u001b[0;34m=\u001b[0m \u001b[0mtest\u001b[0m\u001b[0;34m(\u001b[0m\u001b[0mweights\u001b[0m\u001b[0;34m,\u001b[0m \u001b[0mx_test\u001b[0m\u001b[0;34m,\u001b[0m \u001b[0my_test\u001b[0m\u001b[0;34m)\u001b[0m\u001b[0;34m\u001b[0m\u001b[0;34m\u001b[0m\u001b[0m\n\u001b[1;32m      6\u001b[0m \u001b[0;34m\u001b[0m\u001b[0m\n",
      "\u001b[0;32m<ipython-input-7-ee949063335f>\u001b[0m in \u001b[0;36mtrain\u001b[0;34m(x_train, y_train)\u001b[0m\n\u001b[1;32m      1\u001b[0m \u001b[0;32mdef\u001b[0m \u001b[0mtrain\u001b[0m\u001b[0;34m(\u001b[0m\u001b[0mx_train\u001b[0m\u001b[0;34m,\u001b[0m \u001b[0my_train\u001b[0m\u001b[0;34m)\u001b[0m\u001b[0;34m:\u001b[0m\u001b[0;34m\u001b[0m\u001b[0;34m\u001b[0m\u001b[0m\n\u001b[0;32m----> 2\u001b[0;31m     \u001b[0msolution\u001b[0m \u001b[0;34m=\u001b[0m \u001b[0mquadratic_solver\u001b[0m\u001b[0;34m(\u001b[0m\u001b[0mx_train\u001b[0m\u001b[0;34m,\u001b[0m \u001b[0my_train\u001b[0m\u001b[0;34m)\u001b[0m\u001b[0;34m\u001b[0m\u001b[0;34m\u001b[0m\u001b[0m\n\u001b[0m\u001b[1;32m      3\u001b[0m     \u001b[0;32mreturn\u001b[0m \u001b[0msolution\u001b[0m\u001b[0;34m\u001b[0m\u001b[0;34m\u001b[0m\u001b[0m\n\u001b[1;32m      4\u001b[0m \u001b[0;34m\u001b[0m\u001b[0m\n",
      "\u001b[0;32m<ipython-input-6-ba77348fa897>\u001b[0m in \u001b[0;36mquadratic_solver\u001b[0;34m(x_train, y_train)\u001b[0m\n\u001b[1;32m      5\u001b[0m     \u001b[0mP\u001b[0m \u001b[0;34m=\u001b[0m \u001b[0mget_p\u001b[0m\u001b[0;34m(\u001b[0m\u001b[0mnumber_lines\u001b[0m\u001b[0;34m,\u001b[0m \u001b[0mnumber_columns\u001b[0m\u001b[0;34m)\u001b[0m\u001b[0;34m\u001b[0m\u001b[0;34m\u001b[0m\u001b[0m\n\u001b[1;32m      6\u001b[0m     \u001b[0mQ\u001b[0m \u001b[0;34m=\u001b[0m \u001b[0mget_q\u001b[0m\u001b[0;34m(\u001b[0m\u001b[0mnumber_columns\u001b[0m\u001b[0;34m)\u001b[0m\u001b[0;34m\u001b[0m\u001b[0;34m\u001b[0m\u001b[0m\n\u001b[0;32m----> 7\u001b[0;31m     \u001b[0mG\u001b[0m \u001b[0;34m=\u001b[0m \u001b[0mget_g\u001b[0m\u001b[0;34m(\u001b[0m\u001b[0mx_train\u001b[0m\u001b[0;34m,\u001b[0m \u001b[0my_train\u001b[0m\u001b[0;34m,\u001b[0m \u001b[0mnumber_lines\u001b[0m\u001b[0;34m)\u001b[0m\u001b[0;34m\u001b[0m\u001b[0;34m\u001b[0m\u001b[0m\n\u001b[0m\u001b[1;32m      8\u001b[0m     \u001b[0mH\u001b[0m \u001b[0;34m=\u001b[0m \u001b[0mget_h\u001b[0m\u001b[0;34m(\u001b[0m\u001b[0mnumber_lines\u001b[0m\u001b[0;34m)\u001b[0m\u001b[0;34m\u001b[0m\u001b[0;34m\u001b[0m\u001b[0m\n\u001b[1;32m      9\u001b[0m \u001b[0;34m\u001b[0m\u001b[0m\n",
      "\u001b[0;32m<ipython-input-4-f8a24c39c3ad>\u001b[0m in \u001b[0;36mget_g\u001b[0;34m(x, y, number_lines)\u001b[0m\n\u001b[1;32m      1\u001b[0m \u001b[0;32mdef\u001b[0m \u001b[0mget_g\u001b[0m\u001b[0;34m(\u001b[0m\u001b[0mx\u001b[0m\u001b[0;34m,\u001b[0m \u001b[0my\u001b[0m\u001b[0;34m,\u001b[0m \u001b[0mnumber_lines\u001b[0m\u001b[0;34m)\u001b[0m\u001b[0;34m:\u001b[0m\u001b[0;34m\u001b[0m\u001b[0;34m\u001b[0m\u001b[0m\n\u001b[0;32m----> 2\u001b[0;31m     \u001b[0mtmp2\u001b[0m \u001b[0;34m=\u001b[0m \u001b[0marray\u001b[0m\u001b[0;34m(\u001b[0m\u001b[0my\u001b[0m\u001b[0;34m,\u001b[0m \u001b[0mndmin\u001b[0m\u001b[0;34m=\u001b[0m\u001b[0;36m2\u001b[0m\u001b[0;34m)\u001b[0m\u001b[0;34m.\u001b[0m\u001b[0mT\u001b[0m \u001b[0;34m*\u001b[0m \u001b[0mconcatenate\u001b[0m\u001b[0;34m(\u001b[0m\u001b[0;34m(\u001b[0m\u001b[0mx\u001b[0m\u001b[0;34m,\u001b[0m \u001b[0mones\u001b[0m\u001b[0;34m(\u001b[0m\u001b[0;34m(\u001b[0m\u001b[0mnumber_lines\u001b[0m\u001b[0;34m,\u001b[0m \u001b[0;36m1\u001b[0m\u001b[0;34m)\u001b[0m\u001b[0;34m)\u001b[0m\u001b[0;34m)\u001b[0m\u001b[0;34m,\u001b[0m \u001b[0maxis\u001b[0m\u001b[0;34m=\u001b[0m\u001b[0;36m1\u001b[0m\u001b[0;34m)\u001b[0m\u001b[0;34m\u001b[0m\u001b[0;34m\u001b[0m\u001b[0m\n\u001b[0m\u001b[1;32m      3\u001b[0m     \u001b[0mG\u001b[0m \u001b[0;34m=\u001b[0m \u001b[0mcvxopt\u001b[0m\u001b[0;34m.\u001b[0m\u001b[0mmatrix\u001b[0m\u001b[0;34m(\u001b[0m\u001b[0mtmp2\u001b[0m \u001b[0;34m*\u001b[0m \u001b[0;34m-\u001b[0m\u001b[0;36m1.\u001b[0m\u001b[0;34m)\u001b[0m\u001b[0;34m\u001b[0m\u001b[0;34m\u001b[0m\u001b[0m\n\u001b[1;32m      4\u001b[0m \u001b[0;34m\u001b[0m\u001b[0m\n\u001b[1;32m      5\u001b[0m     \u001b[0;32mreturn\u001b[0m \u001b[0mG\u001b[0m\u001b[0;34m\u001b[0m\u001b[0;34m\u001b[0m\u001b[0m\n",
      "\u001b[0;31mValueError\u001b[0m: operands could not be broadcast together with shapes (1,1097) (1097,5) "
     ],
     "ename": "ValueError",
     "evalue": "operands could not be broadcast together with shapes (1,1097) (1097,5) ",
     "output_type": "error"
    }
   ],
   "source": [
    "for realization in range(5):\n",
    "    x_train, x_test, y_train, y_test = train_test_split(X, Y, test_size=test_size)\n",
    "    \n",
    "    weights = train(x_train, y_train)\n",
    "    accuracy = test(weights, x_test, y_test)\n",
    "    \n",
    "    print(string.RUN.format(realization, None, accuracy, None))    "
   ],
   "metadata": {
    "collapsed": false,
    "pycharm": {
     "name": "#%%\n",
     "is_executing": false
    }
   }
  }
 ],
 "metadata": {
  "kernelspec": {
   "display_name": "Python 3",
   "language": "python",
   "name": "python3"
  },
  "language_info": {
   "codemirror_mode": {
    "name": "ipython",
    "version": 2
   },
   "file_extension": ".py",
   "mimetype": "text/x-python",
   "name": "python",
   "nbconvert_exporter": "python",
   "pygments_lexer": "ipython2",
   "version": "2.7.6"
  },
  "pycharm": {
   "stem_cell": {
    "cell_type": "raw",
    "source": [],
    "metadata": {
     "collapsed": false
    }
   }
  }
 },
 "nbformat": 4,
 "nbformat_minor": 0
}