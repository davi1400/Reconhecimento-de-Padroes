{
 "cells": [
  {
   "cell_type": "markdown",
   "metadata": {
    "collapsed": true,
    "pycharm": {
     "name": "#%% md\n"
    }
   },
   "source": [
    "# Support vector machines soft margin\n",
    "\n"
   ]
  },
  {
   "cell_type": "code",
   "execution_count": 25,
   "outputs": [],
   "source": [
    "import sys \n",
    "\n",
    "sys.path.append(\"/home/davi/PycharmProjects/Reconhecimento-de-Padroes\")\n",
    "\n",
    "from sklearn.model_selection import KFold\n",
    "from Strings import string\n",
    "from sklearn.model_selection import train_test_split\n",
    "from numpy import zeros, identity, array, concatenate, \\\n",
    "    ones, ravel, dot, where, mean\n",
    "from src.Utils.utils import get_accuracy, get_data\n",
    "import matplotlib.pyplot as plt\n",
    "from pandas import DataFrame\n",
    "import cvxopt\n",
    "import cvxopt.solvers\n"
   ],
   "metadata": {
    "collapsed": false,
    "pycharm": {
     "name": "#%%\n",
     "is_executing": false
    }
   }
  },
  {
   "cell_type": "code",
   "execution_count": 26,
   "outputs": [],
   "source": [
    "def get_p(number_lines, number_columns):\n",
    "    tmp_aux = identity(number_columns)\n",
    "    tmp_aux[:, number_columns-1] = 0\n",
    "    \n",
    "    print(tmp_aux.shape)\n",
    "    P = cvxopt.matrix(tmp_aux, tc='d')\n",
    "    return P"
   ],
   "metadata": {
    "collapsed": false,
    "pycharm": {
     "name": "#%%\n",
     "is_executing": false
    }
   }
  },
  {
   "cell_type": "code",
   "execution_count": 27,
   "outputs": [],
   "source": [
    "def get_q(number_columns):\n",
    "    tmp1 = zeros((number_columns, 1))\n",
    "    print(tmp1.shape)\n",
    "    Q = cvxopt.matrix(tmp1, tc='d')\n",
    "    \n",
    "    return Q"
   ],
   "metadata": {
    "collapsed": false,
    "pycharm": {
     "name": "#%%\n",
     "is_executing": false
    }
   }
  },
  {
   "cell_type": "code",
   "execution_count": 28,
   "outputs": [],
   "source": [
    "def get_g(x, y, number_lines):\n",
    "    if array(y, ndmin=2).shape[0] == 1: \n",
    "        tmp2 = array(y, ndmin=2).T * concatenate((x, ones((number_lines, 1))), axis=1)\n",
    "    else:\n",
    "        tmp2 = array(y, ndmin=2) * concatenate((x, ones((number_lines, 1))), axis=1)\n",
    "\n",
    "\n",
    "    # print(tmp2.shape)\n",
    "    # G = cvxopt.matrix(tmp2 * -1., tc='d')\n",
    "    # return G\n",
    "    \n",
    "    # tmp2 = array(y, ndmin=2).T * concatenate((x, ones((number_lines, 1))), axis=1)\n",
    "    print(tmp2.shape)\n",
    "    G = cvxopt.matrix((tmp2 * -1.).T.tolist())\n",
    "\n",
    "    return G"
   ],
   "metadata": {
    "collapsed": false,
    "pycharm": {
     "name": "#%%\n",
     "is_executing": false
    }
   }
  },
  {
   "cell_type": "code",
   "execution_count": 29,
   "outputs": [],
   "source": [
    "def get_h(number_lines):\n",
    "    tmp2 = ones((number_lines, 1))\n",
    "    \n",
    "    print(tmp2.shape)\n",
    "    H = cvxopt.matrix(tmp2 * -1., tc='d')\n",
    "\n",
    "    return H"
   ],
   "metadata": {
    "collapsed": false,
    "pycharm": {
     "name": "#%%\n",
     "is_executing": false
    }
   }
  },
  {
   "cell_type": "code",
   "execution_count": 30,
   "outputs": [],
   "source": [
    "def quadratic_solver(x_train, y_train):\n",
    "    \n",
    "    number_lines, number_columns = x_train.shape \n",
    "    \n",
    "    # bias\n",
    "    number_columns += 1\n",
    "    \n",
    "    P = get_p(number_lines, number_columns)\n",
    "    Q = get_q(number_columns)\n",
    "    G = get_g(x_train, y_train, number_lines)\n",
    "    H = get_h(number_lines)\n",
    "    \n",
    "    \n",
    "\n",
    "    try:\n",
    "        solution = cvxopt.solvers.qp(P, Q, G, H)\n",
    "        best_weights = ravel(solution['x'])  \n",
    "        return best_weights\n",
    "    \n",
    "    except ValueError as error:\n",
    "        print(error)\n",
    "\n"
   ],
   "metadata": {
    "collapsed": false,
    "pycharm": {
     "name": "#%%\n",
     "is_executing": false
    }
   }
  },
  {
   "cell_type": "code",
   "execution_count": 31,
   "outputs": [],
   "source": [
    "def train(x_train, y_train):\n",
    "    solution = quadratic_solver(x_train, y_train)\n",
    "    return solution"
   ],
   "metadata": {
    "collapsed": false,
    "pycharm": {
     "name": "#%%\n",
     "is_executing": false
    }
   }
  },
  {
   "cell_type": "code",
   "execution_count": 32,
   "outputs": [],
   "source": [
    "def get_foward(weights, x_test):\n",
    "    \n",
    "    print(weights)\n",
    "    print(x_test.shape)\n",
    "    \n",
    "    if x_test.shape[1] == array(weights[:weights.shape[0]-1], ndmin=2).shape[1]:\n",
    "        H_output = dot(x_test, array(weights[:weights.shape[0]-1], ndmin=2).T)\n",
    "\n",
    "    else:\n",
    "        H_output = dot(x_test, array(weights[:weights.shape[0] - 1], ndmin=2))\n",
    "\n",
    "    H_output += weights[weights.shape[0]-1]\n",
    "    \n",
    "    # H_output = dot(x_test, array(weights[:2], ndmin=2).T) + weights[2]\n",
    "    # vec_sup = sum(H_output == 1.)\n",
    "    return H_output\n"
   ],
   "metadata": {
    "collapsed": false,
    "pycharm": {
     "name": "#%%\n",
     "is_executing": false
    }
   }
  },
  {
   "cell_type": "code",
   "execution_count": 33,
   "outputs": [],
   "source": [
    "def predict(h, domain=None):\n",
    "    if domain == [-1., 1.]:\n",
    "        for i in range(len(h)):\n",
    "            if h[i][0] > 0:\n",
    "                h[i][0] = 1\n",
    "            else:\n",
    "                h[i][0] = -1\n",
    "\n",
    "        return h\n",
    "    "
   ],
   "metadata": {
    "collapsed": false,
    "pycharm": {
     "name": "#%%\n",
     "is_executing": false
    }
   }
  },
  {
   "cell_type": "code",
   "execution_count": 34,
   "outputs": [],
   "source": [
    "def test(weights, x_test, y_test):\n",
    "    h_output = get_foward(weights, x_test)\n",
    "    y_output = predict(h_output, domain=[-1., 1.])\n",
    "\n",
    "    if y_output.shape == y_test.T.shape:\n",
    "        accuracy = get_accuracy(y_output, array(y_test, ndmin=2).T)\n",
    "    else:\n",
    "        accuracy = get_accuracy(y_output, array(y_test, ndmin=2))\n",
    "    \n",
    "    return accuracy"
   ],
   "metadata": {
    "collapsed": false,
    "pycharm": {
     "name": "#%%\n",
     "is_executing": false
    }
   }
  },
  {
   "cell_type": "code",
   "execution_count": 35,
   "outputs": [],
   "source": [
    "data = get_data(\"column_2C_weka.arff\", type=\"arff\")\n",
    "data = DataFrame(data)\n",
    "number_lines = data.shape[0]\n",
    "number_columns = data.shape[1]\n",
    "X = array(data, ndmin=2)[:, :number_columns-1]\n",
    "Y =   array(array(data, ndmin=2)[:, number_columns-1], ndmin=2).T\n",
    "train_size = .8\n",
    "test_size = .2\n",
    "\n",
    "indices = where(Y == b'Abnormal')\n",
    "Y[indices] = -1\n",
    "\n",
    "indices = where(Y == b'Normal')\n",
    "Y[indices] = 1\n",
    "\n",
    "# print(X)\n",
    "# print(Y)"
   ],
   "metadata": {
    "collapsed": false,
    "pycharm": {
     "name": "#%%\n",
     "is_executing": false
    }
   }
  },
  {
   "cell_type": "code",
   "execution_count": 36,
   "outputs": [
    {
     "name": "stdout",
     "text": [
      "[100]\n",
      "(7, 7)\n",
      "(7, 1)\n",
      "(248, 7)\n",
      "(248, 1)\n",
      "     pcost       dcost       gap    pres   dres\n",
      " 0:  6.5231e-04  5.2774e+02  2e+03  3e+00  5e+04\n",
      " 1:  2.1899e-03  3.3864e+02  2e+03  2e+00  4e+04\n",
      " 2:  1.9242e-03  9.2778e+02  2e+03  2e+00  3e+04\n",
      " 3:  5.1841e-05  4.1061e+03  2e+03  1e+00  3e+04\n",
      " 4:  7.9914e-06  1.3229e+04  2e+03  1e+00  2e+04\n",
      " 5:  5.0351e-07  6.7974e+04  5e+03  1e+00  2e+04\n",
      " 6:  2.7515e-07  3.7044e+05  2e+04  1e+00  2e+04\n",
      " 7:  1.9991e-06  4.3899e+06  1e+05  1e+00  2e+04\n",
      " 8:  2.4503e-03  1.6186e+08  6e+05  1e+00  2e+04\n",
      " 9:  2.3365e-02  4.1926e+10  6e+06  1e+00  2e+04\n",
      "10:  5.7814e-02  2.9004e+14  5e+08  1e+00  9e+05\n",
      "Terminated (singular KKT matrix).\n",
      "[-1.96322791e-01  1.96322817e-01 -4.52371950e-09  1.96322799e-01\n",
      " -2.14272961e-08  2.88255962e-09  1.95463777e-06]\n",
      "(62, 6)\n",
      "\n",
      "            Realização: 0 \n",
      "\n",
      "            Epocas: None \n",
      "\n",
      "            Acuracia: 0.3064516129032258 \n",
      "\n",
      "            Matriz de confusão: None\n",
      "\n",
      "    \n",
      "          \n",
      "(7, 7)\n",
      "(7, 1)\n",
      "(248, 7)\n",
      "(248, 1)\n",
      "     pcost       dcost       gap    pres   dres\n",
      " 0:  5.7221e-04  5.8643e+02  2e+03  3e+00  5e+04\n",
      " 1:  2.0647e-03  4.2368e+02  2e+03  2e+00  4e+04\n",
      " 2:  2.0594e-03  1.1079e+03  2e+03  2e+00  4e+04\n",
      " 3:  1.8300e-05  4.6314e+03  9e+02  1e+00  2e+04\n",
      " 4:  1.1265e-05  1.2147e+04  2e+03  1e+00  2e+04\n",
      " 5:  9.9624e-06  1.7371e+04  2e+03  1e+00  2e+04\n",
      " 6:  2.9699e-07  1.3560e+05  4e+03  1e+00  2e+04\n",
      " 7:  1.2448e-07  1.9139e+06  3e+04  1e+00  2e+04\n",
      " 8:  1.6849e-05  6.8155e+07  5e+05  1e+00  2e+04\n",
      " 9:  2.8073e-01  9.2581e+09  4e+06  1e+00  2e+04\n",
      "Terminated (singular KKT matrix).\n",
      "[-4.32617439e-01  4.32603626e-01  1.55504540e-06  4.32611570e-01\n",
      " -6.70548764e-07  2.10152023e-06  3.35200308e-04]\n",
      "(62, 6)\n",
      "\n",
      "            Realização: 1 \n",
      "\n",
      "            Epocas: None \n",
      "\n",
      "            Acuracia: 0.6290322580645161 \n",
      "\n",
      "            Matriz de confusão: None\n",
      "\n",
      "    \n",
      "          \n",
      "(7, 7)\n",
      "(7, 1)\n",
      "(248, 7)\n",
      "(248, 1)\n",
      "     pcost       dcost       gap    pres   dres\n",
      " 0:  5.6690e-04  5.9104e+02  2e+03  3e+00  5e+04\n",
      " 1:  1.9782e-03  4.3586e+02  2e+03  2e+00  4e+04\n",
      " 2:  1.5339e-03  1.2605e+03  2e+03  2e+00  3e+04\n",
      " 3:  1.9603e-04  3.4454e+03  2e+03  1e+00  3e+04\n",
      " 4:  2.3388e-06  9.8567e+03  2e+03  1e+00  2e+04\n",
      " 5:  4.0735e-07  3.7190e+04  4e+03  1e+00  2e+04\n",
      " 6:  2.0101e-07  1.5218e+05  1e+04  1e+00  2e+04\n",
      " 7:  2.9061e-07  9.4856e+05  4e+04  1e+00  2e+04\n",
      " 8:  4.6945e-05  1.4234e+07  2e+05  1e+00  2e+04\n",
      " 9:  6.1430e-02  7.5977e+08  1e+06  1e+00  2e+04\n",
      "10:  6.6317e-02  4.0908e+11  2e+07  1e+00  2e+04\n",
      "Terminated (singular KKT matrix).\n",
      "[-2.10264154e-01  2.10264422e-01  3.76621991e-07  2.10264263e-01\n",
      "  8.25812638e-08  9.40652632e-08 -3.09156452e-05]\n",
      "(62, 6)\n",
      "\n",
      "            Realização: 2 \n",
      "\n",
      "            Epocas: None \n",
      "\n",
      "            Acuracia: 0.3225806451612903 \n",
      "\n",
      "            Matriz de confusão: None\n",
      "\n",
      "    \n",
      "          \n",
      "(7, 7)\n",
      "(7, 1)\n",
      "(248, 7)\n",
      "(248, 1)\n",
      "     pcost       dcost       gap    pres   dres\n",
      " 0:  5.4171e-04  3.7357e+02  1e+03  3e+00  3e+04\n",
      " 1:  1.9427e-03  3.2921e+02  1e+03  2e+00  2e+04\n",
      " 2:  1.1738e-03  1.3358e+03  1e+03  2e+00  2e+04\n",
      " 3:  2.1868e-05  4.0342e+03  8e+02  1e+00  1e+04\n",
      " 4:  1.0567e-05  9.9376e+03  1e+03  1e+00  1e+04\n",
      " 5:  8.4016e-06  1.6407e+04  2e+03  1e+00  1e+04\n",
      " 6:  6.6283e-06  3.1286e+04  4e+03  1e+00  1e+04\n",
      " 7:  5.9312e-06  3.2458e+04  4e+03  1e+00  1e+04\n",
      " 8:  1.2101e-06  1.9188e+05  1e+04  1e+00  1e+04\n",
      " 9:  6.0921e-07  2.2850e+06  5e+04  1e+00  1e+04\n",
      "10:  2.8105e-05  1.8846e+07  4e+05  1e+00  1e+04\n",
      "11:  6.5033e-04  9.0112e+07  2e+06  1e+00  1e+04\n",
      "12:  3.8300e+00  8.0706e+08  1e+07  1e+00  1e+04\n",
      "13:  4.7562e+00  5.2852e+10  8e+06  1e+00  1e+04\n",
      "Terminated (singular KKT matrix).\n",
      "[-1.78066874e+00  1.78067122e+00  2.03234277e-06  1.78066666e+00\n",
      " -1.46058601e-06 -1.28355978e-06  1.92184382e-04]\n",
      "(62, 6)\n",
      "\n",
      "            Realização: 3 \n",
      "\n",
      "            Epocas: None \n",
      "\n",
      "            Acuracia: 0.41935483870967744 \n",
      "\n",
      "            Matriz de confusão: None\n",
      "\n",
      "    \n",
      "          \n",
      "(7, 7)\n",
      "(7, 1)\n",
      "(248, 7)\n",
      "(248, 1)\n",
      "     pcost       dcost       gap    pres   dres\n",
      " 0:  5.3325e-04  4.4422e+02  2e+03  3e+00  4e+04\n",
      " 1:  2.7469e-03  3.7544e+02  1e+03  2e+00  2e+04\n",
      " 2:  1.4579e-03  8.5439e+02  1e+03  2e+00  2e+04\n",
      " 3:  1.6151e-05  3.2169e+03  1e+03  1e+00  2e+04\n",
      " 4:  1.0612e-06  1.0423e+04  1e+03  1e+00  1e+04\n",
      " 5:  1.5738e-07  8.5435e+04  2e+03  1e+00  1e+04\n",
      " 6:  1.1264e-06  1.4164e+06  2e+04  1e+00  1e+04\n",
      " 7:  2.6750e-03  7.1902e+07  3e+05  1e+00  1e+04\n",
      " 8:  2.7806e+02  1.5479e+10  3e+06  1e+00  1e+04\n",
      "Terminated (singular KKT matrix).\n",
      "[-1.36152725e+01  1.36152739e+01 -1.84689818e-06  1.36152694e+01\n",
      " -3.98467320e-06 -5.99968102e-08  6.70078179e-04]\n",
      "(62, 6)\n",
      "\n",
      "            Realização: 4 \n",
      "\n",
      "            Epocas: None \n",
      "\n",
      "            Acuracia: 0.5645161290322581 \n",
      "\n",
      "            Matriz de confusão: None\n",
      "\n",
      "    \n",
      "          \n",
      "0.4483870967741936\n"
     ],
     "output_type": "stream"
    },
    {
     "data": {
      "text/plain": "<Figure size 432x288 with 1 Axes>",
      "image/png": "[encoded data removed]"
     },
     "metadata": {
      "needs_background": "light"
     },
     "output_type": "display_data"
    }
   ],
   "source": [
    "acc = []\n",
    "pos = X[where(Y == 1)[0]]\n",
    "neg = X[where(Y == -1)[0]]\n",
    "\n",
    "print(sum(Y==1))\n",
    "plt.plot(pos[:, 1], pos[:, 3], 'r+')\n",
    "plt.plot(neg[:, 1], neg[:, 3], 'bo')\n",
    "plt.show()\n",
    "\n",
    "\n",
    "for realization in range(5):\n",
    "    x_train, x_test, y_train, y_test = train_test_split(X, Y, test_size=test_size)\n",
    "    \n",
    "    weights = train(x_train, y_train)\n",
    "    # print(weights)\n",
    "    if weights is None:\n",
    "        print(\"ERROR\")\n",
    "        continue\n",
    "    accuracy = test(weights, x_test, y_test)\n",
    "    acc.append(accuracy)\n",
    "    \n",
    "    print(string.RUN.format(realization, None, accuracy, None))  \n",
    "    \n",
    "print(mean(acc))"
   ],
   "metadata": {
    "collapsed": false,
    "pycharm": {
     "name": "#%%\n",
     "is_executing": false
    }
   }
  }
 ],
 "metadata": {
  "kernelspec": {
   "display_name": "Python 3",
   "language": "python",
   "name": "python3"
  },
  "language_info": {
   "codemirror_mode": {
    "name": "ipython",
    "version": 2
   },
   "file_extension": ".py",
   "mimetype": "text/x-python",
   "name": "python",
   "nbconvert_exporter": "python",
   "pygments_lexer": "ipython2",
   "version": "2.7.6"
  },
  "pycharm": {
   "stem_cell": {
    "cell_type": "raw",
    "source": [],
    "metadata": {
     "collapsed": false
    }
   }
  }
 },
 "nbformat": 4,
 "nbformat_minor": 0
}