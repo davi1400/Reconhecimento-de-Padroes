{
 "cells": [
  {
   "cell_type": "markdown",
   "metadata": {
    "collapsed": true,
    "pycharm": {
     "name": "#%% md\n"
    }
   },
   "source": [
    "# Support vector machines soft margin\n",
    "\n",
    " - Informações sobre o conjunto de dados\n",
    "    1. variance of Wavelet Transformed image (continuous)\n",
    "    2. skewness of Wavelet Transformed image (continuous)\n",
    "    3. curtosis of Wavelet Transformed image (continuous)\n",
    "    4. entropy of image (continuous)\n",
    "    5. class (integer)\n",
    "\n",
    "\n"
   ]
  },
  {
   "cell_type": "code",
   "execution_count": 169,
   "outputs": [],
   "source": [
    "import sys \n",
    "\n",
    "sys.path.append(\"/home/davi/PycharmProjects/Reconhecimento-de-Padroes\")\n",
    "\n",
    "from sklearn.model_selection import KFold\n",
    "from Strings import string\n",
    "from sklearn.model_selection import train_test_split\n",
    "from numpy import zeros, identity, array, concatenate, \\\n",
    "    ones, ravel, dot, where, mean\n",
    "from src.Utils.utils import get_accuracy, get_data\n",
    "import matplotlib.pyplot as plt\n",
    "from pandas import DataFrame\n",
    "import cvxopt\n",
    "import cvxopt.solvers\n"
   ],
   "metadata": {
    "collapsed": false,
    "pycharm": {
     "name": "#%%\n",
     "is_executing": false
    }
   }
  },
  {
   "cell_type": "code",
   "execution_count": 170,
   "outputs": [],
   "source": [
    "def get_p(number_lines, number_columns):\n",
    "    tmp_aux = identity(number_columns)\n",
    "    tmp_aux[:, number_columns-1] = 0\n",
    "    \n",
    "    print(tmp_aux.shape)\n",
    "    P = cvxopt.matrix(tmp_aux, tc='d')\n",
    "    return P"
   ],
   "metadata": {
    "collapsed": false,
    "pycharm": {
     "name": "#%%\n",
     "is_executing": false
    }
   }
  },
  {
   "cell_type": "code",
   "execution_count": 171,
   "outputs": [],
   "source": [
    "def get_q(number_columns):\n",
    "    tmp1 = zeros((number_columns, 1))\n",
    "    print(tmp1.shape)\n",
    "    Q = cvxopt.matrix(tmp1, tc='d')\n",
    "    \n",
    "    return Q"
   ],
   "metadata": {
    "collapsed": false,
    "pycharm": {
     "name": "#%%\n",
     "is_executing": false
    }
   }
  },
  {
   "cell_type": "code",
   "execution_count": 172,
   "outputs": [],
   "source": [
    "def get_g(x, y, number_lines):\n",
    "    if array(y, ndmin=2).shape[0] == 1: \n",
    "        tmp2 = array(y, ndmin=2).T * concatenate((x, ones((number_lines, 1))), axis=1)\n",
    "    else:\n",
    "        tmp2 = array(y, ndmin=2) * concatenate((x, ones((number_lines, 1))), axis=1)\n",
    "\n",
    "\n",
    "    # print(tmp2.shape)\n",
    "    # G = cvxopt.matrix(tmp2 * -1., tc='d')\n",
    "    # return G\n",
    "    \n",
    "    # tmp2 = array(y, ndmin=2).T * concatenate((x, ones((number_lines, 1))), axis=1)\n",
    "    print(tmp2.shape)\n",
    "    G = cvxopt.matrix((tmp2 * -1.).T.tolist())\n",
    "\n",
    "    return G"
   ],
   "metadata": {
    "collapsed": false,
    "pycharm": {
     "name": "#%%\n",
     "is_executing": false
    }
   }
  },
  {
   "cell_type": "code",
   "execution_count": 173,
   "outputs": [],
   "source": [
    "def get_h(number_lines):\n",
    "    tmp2 = ones((number_lines, 1))\n",
    "    \n",
    "    print(tmp2.shape)\n",
    "    H = cvxopt.matrix(tmp2 * -1., tc='d')\n",
    "\n",
    "    return H"
   ],
   "metadata": {
    "collapsed": false,
    "pycharm": {
     "name": "#%%\n",
     "is_executing": false
    }
   }
  },
  {
   "cell_type": "code",
   "execution_count": 174,
   "outputs": [],
   "source": [
    "def quadratic_solver(x_train, y_train):\n",
    "    \n",
    "    number_lines, number_columns = x_train.shape \n",
    "    \n",
    "    # bias\n",
    "    number_columns += 1\n",
    "    \n",
    "    P = get_p(number_lines, number_columns)\n",
    "    Q = get_q(number_columns)\n",
    "    G = get_g(x_train, y_train, number_lines)\n",
    "    H = get_h(number_lines)\n",
    "    \n",
    "    \n",
    "\n",
    "    try:\n",
    "        solution = cvxopt.solvers.qp(P, Q, G, H)\n",
    "        best_weights = ravel(solution['x'])  \n",
    "        return best_weights\n",
    "    \n",
    "    except ValueError as error:\n",
    "        print(error)\n",
    "\n"
   ],
   "metadata": {
    "collapsed": false,
    "pycharm": {
     "name": "#%%\n",
     "is_executing": false
    }
   }
  },
  {
   "cell_type": "code",
   "execution_count": 175,
   "outputs": [],
   "source": [
    "def train(x_train, y_train):\n",
    "    solution = quadratic_solver(x_train, y_train)\n",
    "    return solution"
   ],
   "metadata": {
    "collapsed": false,
    "pycharm": {
     "name": "#%%\n",
     "is_executing": false
    }
   }
  },
  {
   "cell_type": "code",
   "execution_count": 176,
   "outputs": [],
   "source": [
    "def get_foward(weights, x_test):\n",
    "    \n",
    "    print(weights)\n",
    "    print(x_test.shape)\n",
    "    \n",
    "    if x_test.shape[1] == array(weights[:weights.shape[0]-1], ndmin=2).shape[1]:\n",
    "        H_output = dot(x_test, array(weights[:weights.shape[0]-1], ndmin=2).T)\n",
    "\n",
    "    else:\n",
    "        H_output = dot(x_test, array(weights[:weights.shape[0] - 1], ndmin=2))\n",
    "\n",
    "    H_output += weights[weights.shape[0]-1]\n",
    "    \n",
    "    # H_output = dot(x_test, array(weights[:2], ndmin=2).T) + weights[2]\n",
    "    # vec_sup = sum(H_output == 1.)\n",
    "    return H_output\n"
   ],
   "metadata": {
    "collapsed": false,
    "pycharm": {
     "name": "#%%\n",
     "is_executing": false
    }
   }
  },
  {
   "cell_type": "code",
   "execution_count": 177,
   "outputs": [],
   "source": [
    "def predict(h, domain=None):\n",
    "    if domain == [-1., 1.]:\n",
    "        for i in range(len(h)):\n",
    "            if h[i][0] > 0:\n",
    "                h[i][0] = 1\n",
    "            else:\n",
    "                h[i][0] = -1\n",
    "\n",
    "        return h\n",
    "    "
   ],
   "metadata": {
    "collapsed": false,
    "pycharm": {
     "name": "#%%\n",
     "is_executing": false
    }
   }
  },
  {
   "cell_type": "code",
   "execution_count": 178,
   "outputs": [],
   "source": [
    "def test(weights, x_test, y_test):\n",
    "    h_output = get_foward(weights, x_test)\n",
    "    y_output = predict(h_output, domain=[-1., 1.])\n",
    "\n",
    "    if y_output.shape == y_test.T.shape:\n",
    "        accuracy = get_accuracy(y_output, array(y_test, ndmin=2).T)\n",
    "    else:\n",
    "        accuracy = get_accuracy(y_output, array(y_test, ndmin=2))\n",
    "    \n",
    "    return accuracy"
   ],
   "metadata": {
    "collapsed": false,
    "pycharm": {
     "name": "#%%\n",
     "is_executing": false
    }
   }
  },
  {
   "cell_type": "code",
   "execution_count": 179,
   "outputs": [],
   "source": [
    "data = get_data(\"column_2C_weka.arff\", type=\"arff\")\n",
    "data = DataFrame(data)\n",
    "number_lines = data.shape[0]\n",
    "number_columns = data.shape[1]\n",
    "X = array(data, ndmin=2)[:, :number_columns-1]\n",
    "Y =   array(array(data, ndmin=2)[:, number_columns-1], ndmin=2).T\n",
    "train_size = .8\n",
    "test_size = .2\n",
    "\n",
    "indices = where(Y == b'Abnormal')\n",
    "Y[indices] = -1\n",
    "\n",
    "indices = where(Y == b'Normal')\n",
    "Y[indices] = 1\n",
    "\n",
    "# print(X)\n",
    "# print(Y)"
   ],
   "metadata": {
    "collapsed": false,
    "pycharm": {
     "name": "#%%\n",
     "is_executing": false
    }
   }
  },
  {
   "cell_type": "code",
   "execution_count": 180,
   "outputs": [
    {
     "name": "stdout",
     "text": [
      "[100]\n",
      "(7, 7)\n",
      "(7, 1)\n",
      "[[-32.09098679 -6.989378081 -35.99819848 ... -132.264735 -6.413427708\n",
      "  -1.0]\n",
      " [45.25279209 8.693157364 41.5831264 ... 118.5458418 0.214750167 1.0]\n",
      " [46.23639915 10.0627701 37.0 ... 128.0636203 -5.100053328 1.0]\n",
      " ...\n",
      " [69.3988184 18.89840693 75.96636144 ... 103.5825398 -0.44366081 1.0]\n",
      " [36.15782981 -0.810514093 33.62731353 ... 135.9369096 -2.092506504 1.0]\n",
      " [-86.04127982 -38.75066978 -47.87140494 ... -122.0929536 -61.98827709\n",
      "  -1.0]]\n",
      "(248, 1)\n",
      "     pcost       dcost       gap    pres   dres\n",
      " 0:  5.4793e-04  4.1032e+02  1e+03  3e+00  3e+04\n",
      " 1:  2.0376e-03  3.5885e+02  1e+03  2e+00  2e+04\n",
      " 2:  1.1871e-03  1.0838e+03  1e+03  2e+00  2e+04\n",
      " 3:  4.4756e-06  3.3683e+03  8e+02  1e+00  1e+04\n",
      " 4:  1.4153e-06  1.0287e+04  1e+03  1e+00  1e+04\n",
      " 5:  1.0942e-06  2.0034e+04  2e+03  1e+00  1e+04\n",
      " 6:  1.6397e-07  1.7419e+05  3e+03  1e+00  1e+04\n",
      " 7:  3.1398e-06  6.0381e+06  4e+04  1e+00  1e+04\n",
      " 8:  4.8638e-02  7.5351e+08  7e+05  1e+00  1e+04\n",
      "Terminated (singular KKT matrix).\n",
      "[-1.80064735e-01  1.80064731e-01  5.45401298e-06  1.80080720e-01\n",
      " -9.89667671e-06 -7.33544133e-06  4.62283128e-04]\n",
      "(62, 6)\n",
      "\n",
      "            Realização: 0 \n",
      "\n",
      "            Epocas: None \n",
      "\n",
      "            Acuracia: 0.43548387096774194 \n",
      "\n",
      "            Matriz de confusão: None\n",
      "\n",
      "    \n",
      "          \n",
      "(7, 7)\n",
      "(7, 1)\n",
      "[[-53.85479842 -19.23064334 -32.77905978 ... -121.6709148 -5.329843204\n",
      "  -1.0]\n",
      " [53.68337998 13.44702168 41.58429713 ... 113.9137026 2.737035292 1.0]\n",
      " [-65.66534698 -10.54067533 -56.48913545 ... -109.1627768 -53.93202006\n",
      "  -1.0]\n",
      " ...\n",
      " [-41.76773173 -17.89940172 -20.0308863 ... -118.3633889 -2.062962549\n",
      "  -1.0]\n",
      " [43.1919153 9.976663803 28.93814927 ... 123.4674001 1.741017579 1.0]\n",
      " [-87.67908663 -20.36561331 -93.82241589 ... -120.9448288 -76.73062904\n",
      "  -1.0]]\n",
      "(248, 1)\n",
      "     pcost       dcost       gap    pres   dres\n",
      " 0:  7.0097e-04  5.8419e+02  2e+03  3e+00  5e+04\n",
      " 1:  2.8297e-03  3.4703e+02  2e+03  2e+00  3e+04\n",
      " 2:  1.6607e-03  1.2183e+03  2e+03  2e+00  3e+04\n",
      " 3:  7.9820e-06  4.2433e+03  1e+03  1e+00  2e+04\n",
      " 4:  3.0338e-06  1.5214e+04  2e+03  1e+00  2e+04\n",
      " 5:  2.0528e-06  4.2393e+04  4e+03  1e+00  2e+04\n",
      " 6:  1.4299e-06  1.1778e+05  9e+03  1e+00  2e+04\n",
      " 7:  1.2646e-06  2.1686e+05  2e+04  1e+00  2e+04\n",
      " 8:  1.0984e-06  2.2474e+05  2e+04  1e+00  2e+04\n",
      " 9:  5.7931e-07  1.8819e+06  7e+04  1e+00  2e+04\n",
      "10:  1.6510e-04  4.2591e+07  4e+05  1e+00  2e+04\n",
      "11:  2.1390e+00  4.6225e+09  3e+06  1e+00  2e+04\n",
      "Terminated (singular KKT matrix).\n",
      "[-1.19415281e+00  1.19416210e+00  4.33472861e-06  1.19415248e+00\n",
      " -5.78487821e-06  1.08584083e-06  3.13955483e-04]\n",
      "(62, 6)\n",
      "\n",
      "            Realização: 1 \n",
      "\n",
      "            Epocas: None \n",
      "\n",
      "            Acuracia: 0.27419354838709675 \n",
      "\n",
      "            Matriz de confusão: None\n",
      "\n",
      "    \n",
      "          \n",
      "(7, 7)\n",
      "(7, 1)\n",
      "[[48.17074627 9.594216702 39.71092029 ... 135.6233101 5.360050572 1.0]\n",
      " [-54.91944259 -21.06233245 -42.19999999 ... -125.2127163 -2.432561437\n",
      "  -1.0]\n",
      " [-47.74467877 -12.08935067 -38.99999999 ... -117.5120039 -21.68240136\n",
      "  -1.0]\n",
      " ...\n",
      " [38.04655072 8.30166942 26.23683004 ... 123.8034132 3.885773488 1.0]\n",
      " [-38.66325708 -12.98644139 -39.99999999 ... -124.914118 -2.703008052\n",
      "  -1.0]\n",
      " [-58.52162283 -13.92228609 -41.46785522 ... -115.514798 -30.3879839 -1.0]]\n",
      "(248, 1)\n",
      "     pcost       dcost       gap    pres   dres\n",
      " 0:  6.1783e-04  6.0320e+02  2e+03  3e+00  5e+04\n",
      " 1:  1.7837e-03  4.7637e+02  2e+03  2e+00  4e+04\n",
      " 2:  1.6031e-03  1.2603e+03  2e+03  2e+00  3e+04\n",
      " 3:  7.6010e-04  2.2070e+03  2e+03  2e+00  3e+04\n",
      " 4:  7.6354e-06  6.0737e+03  2e+03  1e+00  2e+04\n",
      " 5:  7.2434e-07  1.8815e+04  3e+03  1e+00  2e+04\n",
      " 6:  4.4937e-07  7.0420e+04  6e+03  1e+00  2e+04\n",
      " 7:  2.6732e-07  3.0235e+05  2e+04  1e+00  2e+04\n",
      " 8:  1.3306e-06  2.0734e+06  9e+04  1e+00  2e+04\n",
      " 9:  3.6173e-04  3.6122e+07  5e+05  1e+00  2e+04\n",
      "Terminated (singular KKT matrix).\n",
      "[-1.55388221e-02  1.55554622e-02  1.01807360e-04  1.54922933e-02\n",
      " -9.44254821e-05  3.44435366e-05  1.04615493e-02]\n",
      "(62, 6)\n",
      "\n",
      "            Realização: 2 \n",
      "\n",
      "            Epocas: None \n",
      "\n",
      "            Acuracia: 0.3064516129032258 \n",
      "\n",
      "            Matriz de confusão: None\n",
      "\n",
      "    \n",
      "          \n",
      "(7, 7)\n",
      "(7, 1)\n",
      "[[-48.91555137 -19.96455616 -40.26379358 ... -119.321358 -8.028894629\n",
      "  -1.0]\n",
      " [67.28971201 16.7175142 50.99999999 ... 137.5917777 4.960343813 1.0]\n",
      " [-63.7723908 -12.76338484 -65.36052425 ... -89.82274067 -55.99545386\n",
      "  -1.0]\n",
      " ...\n",
      " [-89.68056731 -32.70443487 -83.13073216 ... -129.9554764 -92.02727682\n",
      "  -1.0]\n",
      " [-55.84328595 -28.84744756 -47.69054322 ... -123.3118449 -2.812426855\n",
      "  -1.0]\n",
      " [43.1919153 9.976663803 28.93814927 ... 123.4674001 1.741017579 1.0]]\n",
      "(248, 1)\n",
      "     pcost       dcost       gap    pres   dres\n",
      " 0:  5.3095e-04  4.0505e+02  1e+03  3e+00  3e+04\n",
      " 1:  1.9991e-03  3.7682e+02  1e+03  2e+00  2e+04\n",
      " 2:  1.1656e-03  1.1039e+03  1e+03  2e+00  2e+04\n",
      " 3:  4.2016e-06  3.3718e+03  8e+02  1e+00  1e+04\n",
      " 4:  1.1976e-06  1.0369e+04  1e+03  1e+00  1e+04\n",
      " 5:  9.1366e-07  2.0456e+04  2e+03  1e+00  1e+04\n",
      " 6:  1.0818e-07  1.8219e+05  3e+03  1e+00  1e+04\n",
      " 7:  8.4041e-06  7.5589e+06  4e+04  1e+00  1e+04\n",
      " 8:  1.0506e-01  8.4582e+08  2e+06  1e+00  1e+04\n",
      " 9:  2.0745e+03  3.9407e+11  3e+07  1e+00  1e+04\n",
      "Terminated (singular KKT matrix).\n",
      "[-3.71885202e+01  3.71885200e+01  5.61717767e-07  3.71885212e+01\n",
      " -9.58583760e-07 -4.13788483e-07  6.13264313e-05]\n",
      "(62, 6)\n",
      "\n",
      "            Realização: 3 \n",
      "\n",
      "            Epocas: None \n",
      "\n",
      "            Acuracia: 0.5161290322580645 \n",
      "\n",
      "            Matriz de confusão: None\n",
      "\n",
      "    \n",
      "          \n",
      "(7, 7)\n",
      "(7, 1)\n",
      "[[-77.12134424 -30.3498745 -77.48108264 ... -110.6111484 -82.09360704\n",
      "  -1.0]\n",
      " [-80.65431956 -26.34437939 -60.89811835 ... -120.1034928 -52.46755185\n",
      "  -1.0]\n",
      " [40.34929637 10.19474845 37.96774659 ... 128.0099272 0.458901373 1.0]\n",
      " ...\n",
      " [-58.10193455 -14.83763914 -79.64983825 ... -113.5876551 -50.23787808\n",
      "  -1.0]\n",
      " [-78.49173027 -22.1817978 -59.99999999 ... -118.5303266 -27.38321314\n",
      "  -1.0]\n",
      " [-55.512212 -20.09515673 -43.99999999 ... -122.648753 -34.55294641 -1.0]]\n",
      "(248, 1)\n",
      "     pcost       dcost       gap    pres   dres\n",
      " 0:  6.6140e-04  5.8306e+02  2e+03  3e+00  5e+04\n",
      " 1:  2.6133e-03  4.1591e+02  2e+03  2e+00  3e+04\n",
      " 2:  1.4114e-03  1.2471e+03  2e+03  2e+00  3e+04\n",
      " 3:  6.6181e-06  4.4229e+03  8e+02  1e+00  2e+04\n",
      " 4:  4.8686e-06  1.2055e+04  2e+03  1e+00  2e+04\n",
      " 5:  1.1229e-06  8.7713e+04  3e+03  1e+00  2e+04\n",
      " 6:  1.3621e-07  1.6198e+06  2e+04  1e+00  2e+04\n",
      " 7:  3.0848e-05  5.2855e+07  4e+05  1e+00  2e+04\n",
      " 8:  4.0540e-01  6.0398e+09  5e+06  1e+00  2e+04\n",
      "Terminated (singular KKT matrix).\n",
      "[-5.19883790e-01  5.19852270e-01  9.19016439e-06  5.19879717e-01\n",
      "  7.52601794e-06  2.69523883e-06 -7.62559102e-04]\n",
      "(62, 6)\n",
      "\n",
      "            Realização: 4 \n",
      "\n",
      "            Epocas: None \n",
      "\n",
      "            Acuracia: 0.6129032258064516 \n",
      "\n",
      "            Matriz de confusão: None\n",
      "\n",
      "    \n",
      "          \n",
      "0.4290322580645161\n"
     ],
     "output_type": "stream"
    },
    {
     "data": {
      "text/plain": "<Figure size 432x288 with 1 Axes>",
      "image/png": "[encoded data removed]"
     },
     "metadata": {
      "needs_background": "light"
     },
     "output_type": "display_data"
    }
   ],
   "source": [
    "acc = []\n",
    "pos = X[where(Y == 1)[0]]\n",
    "neg = X[where(Y == -1)[0]]\n",
    "\n",
    "print(sum(Y==1))\n",
    "plt.plot(pos[:, 1], pos[:, 3], 'r+')\n",
    "plt.plot(neg[:, 1], neg[:, 3], 'bo')\n",
    "plt.show()\n",
    "\n",
    "\n",
    "for realization in range(5):\n",
    "    x_train, x_test, y_train, y_test = train_test_split(X, Y, test_size=test_size)\n",
    "    \n",
    "    weights = train(x_train, y_train)\n",
    "    # print(weights)\n",
    "    if weights is None:\n",
    "        print(\"ERROR\")\n",
    "        continue\n",
    "    accuracy = test(weights, x_test, y_test)\n",
    "    acc.append(accuracy)\n",
    "    \n",
    "    print(string.RUN.format(realization, None, accuracy, None))  \n",
    "    \n",
    "print(mean(acc))"
   ],
   "metadata": {
    "collapsed": false,
    "pycharm": {
     "name": "#%%\n",
     "is_executing": false
    }
   }
  }
 ],
 "metadata": {
  "kernelspec": {
   "display_name": "Python 3",
   "language": "python",
   "name": "python3"
  },
  "language_info": {
   "codemirror_mode": {
    "name": "ipython",
    "version": 2
   },
   "file_extension": ".py",
   "mimetype": "text/x-python",
   "name": "python",
   "nbconvert_exporter": "python",
   "pygments_lexer": "ipython2",
   "version": "2.7.6"
  },
  "pycharm": {
   "stem_cell": {
    "cell_type": "raw",
    "source": [],
    "metadata": {
     "collapsed": false
    }
   }
  }
 },
 "nbformat": 4,
 "nbformat_minor": 0
}