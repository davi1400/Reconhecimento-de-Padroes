{
 "cells": [
  {
   "cell_type": "markdown",
   "source": [
    "# Gausian Naive Bayes\n",
    "\n",
    " - Informações sobre o conjunto de dados\n",
    "    1. variance of Wavelet Transformed image (continuous)\n",
    "    2. skewness of Wavelet Transformed image (continuous)\n",
    "    3. curtosis of Wavelet Transformed image (continuous)\n",
    "    4. entropy of image (continuous)\n",
    "    5. class (integer)\n",
    "\n",
    "\n",
    "\n"
   ],
   "metadata": {
    "collapsed": false,
    "pycharm": {
     "name": "#%% md\n"
    }
   }
  },
  {
   "cell_type": "code",
   "execution_count": 15,
   "metadata": {
    "collapsed": true,
    "pycharm": {
     "is_executing": false
    }
   },
   "outputs": [],
   "source": [
    "import sys \n",
    "\n",
    "sys.path.append(\"/home/davi/PycharmProjects/Reconhecimento-de-Padroes\")\n",
    "\n",
    "\n",
    "from numpy import zeros, concatenate, array, where, log, argmax, inf, sqrt, pi, exp, mean, ndarray\n",
    "from Strings import string\n",
    "from sklearn.model_selection import train_test_split\n",
    "from numpy.random import rand\n",
    "from pandas import DataFrame\n",
    "from src.Utils.utils import sigmoid, get_data, get_confusion_matrix, plot_confusion_matrix, normalize\n",
    "from sklearn.model_selection import KFold\n"
   ]
  },
  {
   "cell_type": "code",
   "execution_count": 16,
   "outputs": [],
   "source": [
    "def gaussian(x_i, variance_i_c, mean_i_c):\n",
    "    Fraction = (1. / sqrt(2 * pi * variance_i_c))\n",
    "    Exponential = (-1. / 2.) * ((x_i - mean_i_c) / sqrt(variance_i_c)) ** 2\n",
    "\n",
    "    return Fraction * exp(Exponential)"
   ],
   "metadata": {
    "collapsed": false,
    "pycharm": {
     "name": "#%%\n",
     "is_executing": false
    }
   }
  },
  {
   "cell_type": "code",
   "execution_count": 17,
   "outputs": [],
   "source": [
    "def predict(p):\n",
    "    return argmax(p)\n"
   ],
   "metadata": {
    "collapsed": false,
    "pycharm": {
     "name": "#%%\n",
     "is_executing": false
    }
   }
  },
  {
   "cell_type": "code",
   "execution_count": 18,
   "outputs": [],
   "source": [
    "def train(x_train, y_train):\n",
    "    if isinstance(max(y_train), ndarray):\n",
    "        max_class = max(y_train)[0]\n",
    "    else:\n",
    "        max_class = max(y_train)\n",
    "    N_class = max_class + 1\n",
    "    N_examples = x_train.shape[0]\n",
    "    thetas_c = zeros((int(N_class), 1))\n",
    "\n",
    "    for c in y_train:\n",
    "        if isinstance(c, ndarray):\n",
    "            indice = c[0]\n",
    "        else:\n",
    "            indice = c\n",
    "        thetas_c[int(indice)] += 1\n",
    "\n",
    "    thetas_c = thetas_c / N_examples\n",
    "\n",
    "    matrix_mean = zeros((x_train.shape[1], int(N_class))).T\n",
    "    variance_matrix = zeros((x_train.shape[1], int(N_class))).T\n",
    "    print(N_class)\n",
    "    for c in range(int(N_class)):\n",
    "        N_y = len(where(y_train == c)[0])\n",
    "        print(N_y)\n",
    "        for i in range(x_train.shape[1]):\n",
    "            indices = where(y_train == c)[0]\n",
    "            matrix_mean[c][i] = (1. / (1. * N_y)) * sum(x_train[:, i][indices])\n",
    "            variance_matrix[c][i] = (1. / (1. * N_y)) * sum((x_train[:, i][indices] - matrix_mean[c][i]) ** 2)\n",
    "\n",
    "    return matrix_mean, variance_matrix, thetas_c\n"
   ],
   "metadata": {
    "collapsed": false,
    "pycharm": {
     "name": "#%%\n",
     "is_executing": false
    }
   }
  },
  {
   "cell_type": "code",
   "execution_count": 19,
   "outputs": [],
   "source": [
    "def test(x_test, y_test, matrix_mean, variance_matrix, thetas_c, flag=False):\n",
    "    cont = 0\n",
    "\n",
    "    for j in range(x_test.shape[0]):\n",
    "        x_example = x_test[j]\n",
    "        y_example = y_test[j]\n",
    "\n",
    "        P_yx = zeros((matrix_mean.shape[0], 1))\n",
    "\n",
    "        for c in range(matrix_mean.shape[0]):\n",
    "            p_y = log(thetas_c[c])\n",
    "            for i in range(matrix_mean.shape[1]):\n",
    "                X_i = x_example[i]\n",
    "                P_yx[c] += log(gaussian(X_i, variance_matrix[c][i], matrix_mean[c][i]))\n",
    "            P_yx[c] += p_y\n",
    "\n",
    "        Y = predict(P_yx)\n",
    "        if flag:\n",
    "            return Y\n",
    "        \n",
    "        if Y == y_example:\n",
    "            cont += 1\n",
    "\n",
    "    return cont / (1.0 * j)\n"
   ],
   "metadata": {
    "collapsed": false,
    "pycharm": {
     "name": "#%%\n",
     "is_executing": false
    }
   }
  },
  {
   "cell_type": "code",
   "execution_count": 20,
   "outputs": [],
   "source": [
    "\n",
    "# data = get_data(\"data_banknote_authentication.txt\", type=\"csv\")\n",
    "data = get_data(\"column_2C_weka.arff\", type=\"arff\")\n",
    "data = DataFrame(data)\n",
    "number_lines = data.shape[0]\n",
    "number_columns = data.shape[1]\n",
    "X = array(data, ndmin=2)[:, :number_columns-1]\n",
    "Y =   array(array(data, ndmin=2)[:, number_columns-1], ndmin=2).T\n",
    "train_size = .8\n",
    "test_size = .2\n",
    "\n",
    "# indices = where(Y == -1)\n",
    "# Y[indices] = 0\n",
    "\n",
    "indices = where(Y == b'Abnormal')\n",
    "Y[indices] = 0\n",
    "\n",
    "indices = where(Y == b'Normal')\n",
    "Y[indices] = 1\n",
    "    \n",
    "# print(X)\n",
    "# print(Y) \n",
    "\n",
    "\n",
    "# X_new = normalize(X)\n",
    "\n",
    "# print(X_new)\n",
    "# print(Y) "
   ],
   "metadata": {
    "collapsed": false,
    "pycharm": {
     "name": "#%%\n",
     "is_executing": false
    }
   }
  },
  {
   "cell_type": "code",
   "execution_count": 21,
   "outputs": [
    {
     "name": "stdout",
     "text": [
      "2\n",
      "169\n",
      "79\n",
      "\n",
      "            Realização: 0 \n",
      "\n",
      "            Epocas: 1000 \n",
      "\n",
      "            Acuracia: 0.7868852459016393 \n",
      "\n",
      "            Matriz de confusão: None\n",
      "\n",
      "    \n",
      "          \n",
      "2\n",
      "168\n",
      "80\n",
      "\n",
      "            Realização: 1 \n",
      "\n",
      "            Epocas: 1000 \n",
      "\n",
      "            Acuracia: 0.7049180327868853 \n",
      "\n",
      "            Matriz de confusão: None\n",
      "\n",
      "    \n",
      "          \n",
      "2\n",
      "168\n",
      "80\n",
      "\n",
      "            Realização: 2 \n",
      "\n",
      "            Epocas: 1000 \n",
      "\n",
      "            Acuracia: 0.8688524590163934 \n",
      "\n",
      "            Matriz de confusão: None\n",
      "\n",
      "    \n",
      "          \n",
      "2\n",
      "164\n",
      "84\n",
      "\n",
      "            Realização: 3 \n",
      "\n",
      "            Epocas: 1000 \n",
      "\n",
      "            Acuracia: 0.8524590163934426 \n",
      "\n",
      "            Matriz de confusão: None\n",
      "\n",
      "    \n",
      "          \n",
      "2\n",
      "170\n",
      "78\n",
      "\n",
      "            Realização: 4 \n",
      "\n",
      "            Epocas: 1000 \n",
      "\n",
      "            Acuracia: 0.7377049180327869 \n",
      "\n",
      "            Matriz de confusão: None\n",
      "\n",
      "    \n",
      "          \n",
      "2\n",
      "171\n",
      "77\n",
      "\n",
      "            Realização: 5 \n",
      "\n",
      "            Epocas: 1000 \n",
      "\n",
      "            Acuracia: 0.8852459016393442 \n",
      "\n",
      "            Matriz de confusão: None\n",
      "\n",
      "    \n",
      "          \n",
      "2\n",
      "171\n",
      "77\n",
      "\n",
      "            Realização: 6 \n",
      "\n",
      "            Epocas: 1000 \n",
      "\n",
      "            Acuracia: 0.8032786885245902 \n",
      "\n",
      "            Matriz de confusão: None\n",
      "\n",
      "    \n",
      "          \n",
      "2\n",
      "169\n",
      "79\n",
      "\n",
      "            Realização: 7 \n",
      "\n",
      "            Epocas: 1000 \n",
      "\n",
      "            Acuracia: 0.7049180327868853 \n",
      "\n",
      "            Matriz de confusão: None\n",
      "\n",
      "    \n",
      "          \n",
      "2\n",
      "165\n",
      "83\n",
      "\n",
      "            Realização: 8 \n",
      "\n",
      "            Epocas: 1000 \n",
      "\n",
      "            Acuracia: 0.8032786885245902 \n",
      "\n",
      "            Matriz de confusão: None\n",
      "\n",
      "    \n",
      "          \n",
      "2\n",
      "166\n",
      "82\n",
      "\n",
      "            Realização: 9 \n",
      "\n",
      "            Epocas: 1000 \n",
      "\n",
      "            Acuracia: 0.7704918032786885 \n",
      "\n",
      "            Matriz de confusão: None\n",
      "\n",
      "    \n",
      "          \n",
      "0.7918032786885246\n"
     ],
     "output_type": "stream"
    },
    {
     "name": "stderr",
     "text": [
      "/home/davi/PycharmProjects/Reconhecimento-de-Padroes/venv/lib/python3.6/site-packages/ipykernel_launcher.py:14: RuntimeWarning: divide by zero encountered in log\n",
      "  \n"
     ],
     "output_type": "stream"
    }
   ],
   "source": [
    "acc = []\n",
    "acc_eta = []\n",
    "kf = KFold(n_splits=10)\n",
    "eta_validation_vector = [1., 0.15, 0.1, 1e-2, 1e-3]\n",
    "for realization in range(10):\n",
    "    x_train, x_test, y_train, y_test = train_test_split(X, Y, test_size=test_size)\n",
    "    \n",
    "    # for eta_val in eta_validation_vector:\n",
    "    #     acc_validation = []\n",
    "    #     for train_index, test_index in kf.split(x_train):\n",
    "    #         # print(\"TRAIN:\", train_index, \"TEST:\", test_index)\n",
    "    #         x_train_val, x_test_val = x_train[train_index], x_train[test_index]\n",
    "    #         y_train_val, y_test_val = y_train[train_index], y_train[test_index]\n",
    "    # \n",
    "    #         wheiths_val = train(x_train_val, y_train_val)\n",
    "    #         accuracy = test(wheiths_val, x_test_val, y_test_val)\n",
    "    #         \n",
    "    #         acc_validation.append(accuracy)\n",
    "    #     acc_eta.append(mean(acc_validation))\n",
    "    #         \n",
    "    #         \n",
    "    # indice = argmax(acc_eta)\n",
    "                \n",
    "    matrix_Mean, variance_Matrix, thetas_c = train(x_train, y_train)\n",
    "    accuracy = test(x_test, y_test, matrix_Mean, variance_Matrix, thetas_c)\n",
    "    y_output = test(x_test, y_test, matrix_Mean, variance_Matrix, thetas_c, flag=True)\n",
    "    acc.append(accuracy)\n",
    "    \n",
    "    \n",
    "    # confusion_matrix = get_confusion_matrix(y_output, y_test)\n",
    "    print(string.RUN.format(realization, 1000, accuracy, None))\n",
    "\n",
    "# plot_confusion_matrix(confusion_matrix)    \n",
    "print(mean(acc))\n",
    "\n",
    "\n"
   ],
   "metadata": {
    "collapsed": false,
    "pycharm": {
     "name": "#%%\n",
     "is_executing": false
    }
   }
  }
 ],
 "metadata": {
  "kernelspec": {
   "display_name": "Python 3",
   "language": "python",
   "name": "python3"
  },
  "language_info": {
   "codemirror_mode": {
    "name": "ipython",
    "version": 2
   },
   "file_extension": ".py",
   "mimetype": "text/x-python",
   "name": "python",
   "nbconvert_exporter": "python",
   "pygments_lexer": "ipython2",
   "version": "2.7.6"
  },
  "pycharm": {
   "stem_cell": {
    "cell_type": "raw",
    "source": [],
    "metadata": {
     "collapsed": false
    }
   }
  }
 },
 "nbformat": 4,
 "nbformat_minor": 0
}